{
 "cells": [
  {
   "cell_type": "markdown",
   "metadata": {},
   "source": [
    "# Cálculo - Tarefa 01\n",
    "\n",
    "1. Marque quais desses métodos/algoritmos muito populares em ciência de dados são baseados no uso de derivada:\n",
    "\n",
    "    1. Método Mínimos Quadrados\n",
    "    2. Gradiente descendente\n",
    "    3. Newton Raphson\n",
    "    4. CART (Árvore de decisão)"
   ]
  },
  {
   "cell_type": "markdown",
   "metadata": {},
   "source": [
    "> Dos algoritmos citados, são baseados no uso de derivadas o **Gradiente descendente** e **Newton Raphson**.\n",
    ">\n",
    "> Detalhando sobre cada método:\n",
    "> 1. **Método Mínimnos Quadrados**: apesar de utilizar derivadas, tem como base os resíduos do ajuste, ou seja, a diferença entre os valores reais da variável explicativa e os seus respectivos valores preditos. Em cada ajuste são utilizadas derivadas parciais em relação a cada coeficiente. Com tais derivadas chegam-se às fórmulas dos coeficientes que minimizam a soma dos erros no ajuste.   \n",
    "> 2. **Gradiente descendente**: depende explicitamente de derivadas parciais, uma vez que utiliza o operador gradiente ( correspondente ao vetor das derivadas parciais) sobre a função aplicada nas variáveis explicativas em cada iteração.\n",
    "> 3. **Newton Raphson**: tem por objetivo encontrar as raízes de uma função por meio de iterações. Em cada iteração, é calculado o novo valor de x mais próximo da raíz na qual é subtraído do valor x anterior a razão entre a função desse ponto e a derivada da função neste ponto. Tal relação pode ser representada pela fórmula:\n",
    ">\n",
    "> 4. **CART**: neste método tenta-se definir um valor ou uma classe de acordo com a quantidade de variáveis explicativas que correspondem a cada resposta. Não utiliza derivas."
   ]
  },
  {
   "cell_type": "markdown",
   "metadata": {},
   "source": [
    "2. Dada uma base de dados com uma variável resposta $y$ e um conjunto de variáveis explicativas. Considere uma estrutura de um modelo de regressão. Explique com suas palavras por que não é possível obter parâmetros que forneçam um erro quadrático médio (EQM) menor que o obtido com estimadores de mínimos quadrados."
   ]
  },
  {
   "cell_type": "markdown",
   "metadata": {},
   "source": [
    "> No Método dos Mínimos Quadrados cada parâmetro constituinte de um ajuste é definido por meio de derivadas parciais, na qual são calculados aqueles que minimizam o erro quadrático médio do ajuste. Dessa forma, não é possível obter novos valores que correpondem a um erro quadrático médio inferior ao obtido pelo método."
   ]
  }
 ],
 "metadata": {
  "kernelspec": {
   "display_name": "Python 3 (ipykernel)",
   "language": "python",
   "name": "python3"
  },
  "language_info": {
   "codemirror_mode": {
    "name": "ipython",
    "version": 3
   },
   "file_extension": ".py",
   "mimetype": "text/x-python",
   "name": "python",
   "nbconvert_exporter": "python",
   "pygments_lexer": "ipython3",
   "version": "3.7.13"
  },
  "toc": {
   "base_numbering": 1,
   "nav_menu": {},
   "number_sections": true,
   "sideBar": true,
   "skip_h1_title": true,
   "title_cell": "Índice",
   "title_sidebar": "Conteúdo",
   "toc_cell": false,
   "toc_position": {},
   "toc_section_display": true,
   "toc_window_display": false
  },
  "varInspector": {
   "cols": {
    "lenName": 16,
    "lenType": 16,
    "lenVar": 40
   },
   "kernels_config": {
    "python": {
     "delete_cmd_postfix": "",
     "delete_cmd_prefix": "del ",
     "library": "var_list.py",
     "varRefreshCmd": "print(var_dic_list())"
    },
    "r": {
     "delete_cmd_postfix": ") ",
     "delete_cmd_prefix": "rm(",
     "library": "var_list.r",
     "varRefreshCmd": "cat(var_dic_list()) "
    }
   },
   "types_to_exclude": [
    "module",
    "function",
    "builtin_function_or_method",
    "instance",
    "_Feature"
   ],
   "window_display": false
  }
 },
 "nbformat": 4,
 "nbformat_minor": 4
}
