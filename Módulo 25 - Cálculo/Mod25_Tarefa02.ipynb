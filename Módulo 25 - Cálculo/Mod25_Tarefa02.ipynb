{
 "cells": [
  {
   "cell_type": "markdown",
   "metadata": {},
   "source": [
    "# Cálculo - Tarefa 02\n",
    "\n",
    "1- Calcule de forma numérica a integral da função $x^3$ avaliada entre os pontos $1$ e $2$. Identifique o número de retângulos que você usou.  \n",
    "2- Calcule essa área de forma analítica."
   ]
  },
  {
   "cell_type": "markdown",
   "metadata": {},
   "source": [
    "### Pacotes Necessários\n",
    "Nesta tarefa seão usados três pacotes:\n",
    "- numpy para operações matemáticas e vetoriais;\n",
    "- matplotlib.pyplot para a visualização gráfica de funções;\n",
    "- warnings, para ignorar avisos de erros em operações."
   ]
  },
  {
   "cell_type": "code",
   "execution_count": 5,
   "metadata": {},
   "outputs": [],
   "source": [
    "import numpy as np\n",
    "import matplotlib.pyplot as plt\n",
    "import warnings"
   ]
  },
  {
   "cell_type": "markdown",
   "metadata": {},
   "source": [
    "### Questão 1\n",
    "Para resolver esta questão, vamos utilizar as funções definidas em aula, na qual é calculada a área da função definida no intervalo escolhido e representada a área dividida no número de retângulos desejado."
   ]
  },
  {
   "cell_type": "code",
   "execution_count": 25,
   "metadata": {},
   "outputs": [],
   "source": [
    "warnings.filterwarnings(\"ignore\")\n",
    "\n",
    "# Função x^3\n",
    "f = lambda x: np.power(x,3)\n",
    "\n",
    "# Função para o cáluclo da área pela soma das áreas dos retângulos construídos no intervalo definido.\n",
    "def calcula_area(a, b, func, frame_num):\n",
    "    ''' Parâmetros da função:\n",
    "    a: valor inicial da intervalo\n",
    "    b: valor final do intervalo \n",
    "    func: Função a ser integrada\n",
    "    frame_num: Quantidade de retângulos a ser utilizado no cálculo da área\n",
    "    '''\n",
    "    num_bins=frame_num+1 # Quantidade de retângulos\n",
    "    delta = (b-a)/num_bins # largura do retângulo\n",
    "    x_cols = np.linspace(a, b-delta, num_bins)+delta/2 # Divisão do eixo X\n",
    "    y_cols = f(x_cols) # alturas dos retângulos\n",
    "    return sum(delta*y_cols)\n",
    "    \n",
    "# Função para representação gráfica dos retângulos e da função a ser integrada no intervalo definido.\n",
    "def animate(n, a, b, func, verdadeiro_valor):\n",
    "    ''' Parâmetros\n",
    "    n: número de retângulos\n",
    "    a: valor inicial do intervalo\n",
    "    b: valor final do intervalo\n",
    "    func: função a ser integrada\n",
    "    verdadeiro_valor: valor real da integral no intervalo\n",
    "    '''\n",
    "    plt.cla()  # Limpa o gráfico anterior para montar o próxim frame\n",
    "    ax = plt.axes(xlim=(a, b), ylim = (0, 10))  # Monta o sistema de eixos\n",
    "    \n",
    "    # Plota a função\n",
    "    x = np.linspace(a ,b, 100)\n",
    "    y = f(x)\n",
    "    ax.plot(x, y, '-');\n",
    "    \n",
    "    # Define as quebras e as alturas das colunas\n",
    "    num_bins=n+1\n",
    "    delta = (b-a)/num_bins\n",
    "    x_cols = np.linspace(a, b-delta, num_bins)+delta/2\n",
    "    y_cols = f(x_cols)\n",
    "\n",
    "    # plota barras\n",
    "    bar = ax.bar(x_cols, y_cols, alpha=.5, width = delta, edgecolor='blue')   \n",
    "\n",
    "    # Área dos retângulos\n",
    "    soma_riemann = calcula_area(a, b, func, n)\n",
    "    \n",
    "    # Erro\n",
    "    erro = verdadeiro_valor - soma_riemann\n",
    "    ax.set_title(f'Soma de Riemann = {soma_riemann:.2f} erro = {erro:.4f}')\n",
    "\n",
    "    return bar"
   ]
  },
  {
   "cell_type": "markdown",
   "metadata": {},
   "source": [
    "Utilizando sites adequados para o cálculo de integrais, tal como [WolframAlpha](https://www.wolframalpha.com/input?i=integrate+x%5E3+dx+from+x%3D1+to+2), vemos que o valor verdadeiro da integral de $x^{3}$ entre 1 e 2 é 3.75. Vejamos qual será o erro no cálculo desta integral através das funções definidas acima, utilizando 50 retângulos."
   ]
  },
  {
   "cell_type": "code",
   "execution_count": 27,
   "metadata": {},
   "outputs": [
    {
     "data": {
      "image/png": "[encoded data removed]",
      "text/plain": [
       "<Figure size 640x480 with 2 Axes>"
      ]
     },
     "metadata": {},
     "output_type": "display_data"
    }
   ],
   "source": [
    "# Calcula a integral de x^3 entre 1 e 2\n",
    "animate(n=50, a=1, b=2, func=f, verdadeiro_valor=3.75);"
   ]
  },
  {
   "cell_type": "markdown",
   "metadata": {},
   "source": [
    "Vemos que o erro foi de apenas 0.0001."
   ]
  },
  {
   "cell_type": "markdown",
   "metadata": {},
   "source": [
    "### Questão 2"
   ]
  },
  {
   "cell_type": "markdown",
   "metadata": {},
   "source": [
    "Nas aulas de cálculo da EBAC foi mostrada a regra do tombo em derivadas de polinômios. Nesta regra temos a relação:\n",
    " \n",
    "$$ (a \\cdot x^{b})' = a \\cdot b \\cdot x^{b - 1} $$ \n",
    "\n",
    "No caso de integrais, temos uma relação análoga à demonstrada acima, tendo como diferença a operação que a potência aplica na equação. Ao invés de estar multiplicando, ela estará dividindo após a integral:\n",
    "\n",
    "$$ \\int a \\cdot x^{b} = \\frac{a}{b} \\cdot x^{b + 1} + C $$\n",
    "\n",
    "Onde C é uma constante. Aplicando essa relação na função $x^{3}$ entre os pontos 1 e 2, temos:\n",
    "\n",
    "$$ \\int x^{3} = \\frac{x^4}{4} $$\n",
    "\n",
    "$$ \\int_{1}^{2} x^{3} = \\frac{2^4}{4} - \\frac{1^4}{4} $$\n",
    "\n",
    "$$ \\int_{1}^{2} x^{3} = \\frac{15}{4} = 3.75 $$"
   ]
  },
  {
   "cell_type": "code",
   "execution_count": null,
   "metadata": {},
   "outputs": [],
   "source": []
  }
 ],
 "metadata": {
  "kernelspec": {
   "display_name": "Python 3 (ipykernel)",
   "language": "python",
   "name": "python3"
  },
  "language_info": {
   "codemirror_mode": {
    "name": "ipython",
    "version": 3
   },
   "file_extension": ".py",
   "mimetype": "text/x-python",
   "name": "python",
   "nbconvert_exporter": "python",
   "pygments_lexer": "ipython3",
   "version": "3.7.13"
  },
  "toc": {
   "base_numbering": 1,
   "nav_menu": {},
   "number_sections": true,
   "sideBar": true,
   "skip_h1_title": true,
   "title_cell": "Índice",
   "title_sidebar": "Conteúdo",
   "toc_cell": false,
   "toc_position": {},
   "toc_section_display": true,
   "toc_window_display": false
  },
  "varInspector": {
   "cols": {
    "lenName": 16,
    "lenType": 16,
    "lenVar": 40
   },
   "kernels_config": {
    "python": {
     "delete_cmd_postfix": "",
     "delete_cmd_prefix": "del ",
     "library": "var_list.py",
     "varRefreshCmd": "print(var_dic_list())"
    },
    "r": {
     "delete_cmd_postfix": ") ",
     "delete_cmd_prefix": "rm(",
     "library": "var_list.r",
     "varRefreshCmd": "cat(var_dic_list()) "
    }
   },
   "types_to_exclude": [
    "module",
    "function",
    "builtin_function_or_method",
    "instance",
    "_Feature"
   ],
   "window_display": false
  }
 },
 "nbformat": 4,
 "nbformat_minor": 4
}
