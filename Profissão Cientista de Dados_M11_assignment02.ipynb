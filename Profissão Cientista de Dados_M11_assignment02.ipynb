{
 "cells": [
  {
   "cell_type": "markdown",
   "metadata": {},
   "source": [
    "## Árvores de regressão - exercícios 02\n",
    "\n",
    "Este exercício será uma continuação do anterior, mesma base, mesmas variáveis - vamos tentar buscar a 'melhor árvore'.\n",
    "\n",
    "A descrição das variáveis está abaixo:"
   ]
  },
  {
   "cell_type": "markdown",
   "metadata": {},
   "source": [
    "| Variavel | Descrição|\n",
    "|-|-|\n",
    "|CRIM| taxa de crimes per-cápita da cidade | \n",
    "|ZN| proporção de terrenos residenciais zoneados para lotes com mais de 25.000 pés quadrados. |\n",
    "|INDUS| proporção de acres de negócios não varejistas por cidade |\n",
    "|CHAS |vale 1 se o terreno faz fronteira com o *Charles River*; 0 caso contrário |\n",
    "|NOX| Concentração de óxido nítrico (em partes por 10 milhões) |\n",
    "|RM| número médio de quartos por habitação |\n",
    "|AGE| proporção de unidades ocupadas pelo proprietário construídas antes de 1940 |\n",
    "|DIS| distâncias ponderadas até cinco centros de empregos de Boston |\n",
    "|RAD| índice de acessibilidade a rodovias radiais |\n",
    "|TAX| taxa de imposto sobre a propriedade de valor total por \\\\$10,000 |\n",
    "|PTRATIO| razão pupilo-professor da cidade |\n",
    "|B| $ 1000 (Bk - 0,63) ^ 2 $ onde Bk é a proporção de negros por cidade |\n",
    "|LSTAT| \\%status inferior da população |\n",
    "|MEDV| (variável resposta) Valor mediano das casas ocupadas pelo proprietário em US $ 1.000|"
   ]
  },
  {
   "cell_type": "code",
   "execution_count": 90,
   "metadata": {},
   "outputs": [
    {
     "name": "stderr",
     "output_type": "stream",
     "text": [
      "C:\\ProgramData\\Anaconda3\\lib\\site-packages\\sklearn\\utils\\deprecation.py:87: FutureWarning: Function load_boston is deprecated; `load_boston` is deprecated in 1.0 and will be removed in 1.2.\n",
      "\n",
      "    The Boston housing prices dataset has an ethical problem. You can refer to\n",
      "    the documentation of this function for further details.\n",
      "\n",
      "    The scikit-learn maintainers therefore strongly discourage the use of this\n",
      "    dataset unless the purpose of the code is to study and educate about\n",
      "    ethical issues in data science and machine learning.\n",
      "\n",
      "    In this special case, you can fetch the dataset from the original\n",
      "    source::\n",
      "\n",
      "        import pandas as pd\n",
      "        import numpy as np\n",
      "\n",
      "\n",
      "        data_url = \"http://lib.stat.cmu.edu/datasets/boston\"\n",
      "        raw_df = pd.read_csv(data_url, sep=\"\\s+\", skiprows=22, header=None)\n",
      "        data = np.hstack([raw_df.values[::2, :], raw_df.values[1::2, :2]])\n",
      "        target = raw_df.values[1::2, 2]\n",
      "\n",
      "    Alternative datasets include the California housing dataset (i.e.\n",
      "    :func:`~sklearn.datasets.fetch_california_housing`) and the Ames housing\n",
      "    dataset. You can load the datasets as follows::\n",
      "\n",
      "        from sklearn.datasets import fetch_california_housing\n",
      "        housing = fetch_california_housing()\n",
      "\n",
      "    for the California housing dataset and::\n",
      "\n",
      "        from sklearn.datasets import fetch_openml\n",
      "        housing = fetch_openml(name=\"house_prices\", as_frame=True)\n",
      "\n",
      "    for the Ames housing dataset.\n",
      "    \n",
      "  warnings.warn(msg, category=FutureWarning)\n"
     ]
    }
   ],
   "source": [
    "import pandas as pd\n",
    "import graphviz\n",
    "import seaborn as sns\n",
    "import matplotlib.pyplot as plt\n",
    "\n",
    "from sklearn import datasets\n",
    "from sklearn.tree import DecisionTreeRegressor\n",
    "from sklearn import tree\n",
    "from sklearn.model_selection import train_test_split\n",
    "from sklearn.metrics import mean_squared_error\n",
    "\n",
    "%matplotlib inline\n",
    "\n",
    "boston = datasets.load_boston()\n",
    "X = pd.DataFrame(boston.data, columns = boston.feature_names)\n",
    "y = pd.DataFrame(boston.target, columns = ['MEDV'])"
   ]
  },
  {
   "cell_type": "code",
   "execution_count": 91,
   "metadata": {},
   "outputs": [
    {
     "data": {
      "text/html": [
       "<div>\n",
       "<style scoped>\n",
       "    .dataframe tbody tr th:only-of-type {\n",
       "        vertical-align: middle;\n",
       "    }\n",
       "\n",
       "    .dataframe tbody tr th {\n",
       "        vertical-align: top;\n",
       "    }\n",
       "\n",
       "    .dataframe thead th {\n",
       "        text-align: right;\n",
       "    }\n",
       "</style>\n",
       "<table border=\"1\" class=\"dataframe\">\n",
       "  <thead>\n",
       "    <tr style=\"text-align: right;\">\n",
       "      <th></th>\n",
       "      <th>CRIM</th>\n",
       "      <th>ZN</th>\n",
       "      <th>INDUS</th>\n",
       "      <th>CHAS</th>\n",
       "      <th>NOX</th>\n",
       "      <th>RM</th>\n",
       "      <th>AGE</th>\n",
       "      <th>DIS</th>\n",
       "      <th>RAD</th>\n",
       "      <th>TAX</th>\n",
       "      <th>PTRATIO</th>\n",
       "      <th>B</th>\n",
       "      <th>LSTAT</th>\n",
       "    </tr>\n",
       "  </thead>\n",
       "  <tbody>\n",
       "    <tr>\n",
       "      <th>0</th>\n",
       "      <td>0.00632</td>\n",
       "      <td>18.0</td>\n",
       "      <td>2.31</td>\n",
       "      <td>0.0</td>\n",
       "      <td>0.538</td>\n",
       "      <td>6.575</td>\n",
       "      <td>65.2</td>\n",
       "      <td>4.0900</td>\n",
       "      <td>1.0</td>\n",
       "      <td>296.0</td>\n",
       "      <td>15.3</td>\n",
       "      <td>396.90</td>\n",
       "      <td>4.98</td>\n",
       "    </tr>\n",
       "    <tr>\n",
       "      <th>1</th>\n",
       "      <td>0.02731</td>\n",
       "      <td>0.0</td>\n",
       "      <td>7.07</td>\n",
       "      <td>0.0</td>\n",
       "      <td>0.469</td>\n",
       "      <td>6.421</td>\n",
       "      <td>78.9</td>\n",
       "      <td>4.9671</td>\n",
       "      <td>2.0</td>\n",
       "      <td>242.0</td>\n",
       "      <td>17.8</td>\n",
       "      <td>396.90</td>\n",
       "      <td>9.14</td>\n",
       "    </tr>\n",
       "    <tr>\n",
       "      <th>2</th>\n",
       "      <td>0.02729</td>\n",
       "      <td>0.0</td>\n",
       "      <td>7.07</td>\n",
       "      <td>0.0</td>\n",
       "      <td>0.469</td>\n",
       "      <td>7.185</td>\n",
       "      <td>61.1</td>\n",
       "      <td>4.9671</td>\n",
       "      <td>2.0</td>\n",
       "      <td>242.0</td>\n",
       "      <td>17.8</td>\n",
       "      <td>392.83</td>\n",
       "      <td>4.03</td>\n",
       "    </tr>\n",
       "    <tr>\n",
       "      <th>3</th>\n",
       "      <td>0.03237</td>\n",
       "      <td>0.0</td>\n",
       "      <td>2.18</td>\n",
       "      <td>0.0</td>\n",
       "      <td>0.458</td>\n",
       "      <td>6.998</td>\n",
       "      <td>45.8</td>\n",
       "      <td>6.0622</td>\n",
       "      <td>3.0</td>\n",
       "      <td>222.0</td>\n",
       "      <td>18.7</td>\n",
       "      <td>394.63</td>\n",
       "      <td>2.94</td>\n",
       "    </tr>\n",
       "    <tr>\n",
       "      <th>4</th>\n",
       "      <td>0.06905</td>\n",
       "      <td>0.0</td>\n",
       "      <td>2.18</td>\n",
       "      <td>0.0</td>\n",
       "      <td>0.458</td>\n",
       "      <td>7.147</td>\n",
       "      <td>54.2</td>\n",
       "      <td>6.0622</td>\n",
       "      <td>3.0</td>\n",
       "      <td>222.0</td>\n",
       "      <td>18.7</td>\n",
       "      <td>396.90</td>\n",
       "      <td>5.33</td>\n",
       "    </tr>\n",
       "  </tbody>\n",
       "</table>\n",
       "</div>"
      ],
      "text/plain": [
       "      CRIM    ZN  INDUS  CHAS    NOX     RM   AGE     DIS  RAD    TAX  \\\n",
       "0  0.00632  18.0   2.31   0.0  0.538  6.575  65.2  4.0900  1.0  296.0   \n",
       "1  0.02731   0.0   7.07   0.0  0.469  6.421  78.9  4.9671  2.0  242.0   \n",
       "2  0.02729   0.0   7.07   0.0  0.469  7.185  61.1  4.9671  2.0  242.0   \n",
       "3  0.03237   0.0   2.18   0.0  0.458  6.998  45.8  6.0622  3.0  222.0   \n",
       "4  0.06905   0.0   2.18   0.0  0.458  7.147  54.2  6.0622  3.0  222.0   \n",
       "\n",
       "   PTRATIO       B  LSTAT  \n",
       "0     15.3  396.90   4.98  \n",
       "1     17.8  396.90   9.14  \n",
       "2     17.8  392.83   4.03  \n",
       "3     18.7  394.63   2.94  \n",
       "4     18.7  396.90   5.33  "
      ]
     },
     "execution_count": 91,
     "metadata": {},
     "output_type": "execute_result"
    }
   ],
   "source": [
    "X.head()"
   ]
  },
  {
   "cell_type": "code",
   "execution_count": 92,
   "metadata": {},
   "outputs": [
    {
     "data": {
      "text/html": [
       "<div>\n",
       "<style scoped>\n",
       "    .dataframe tbody tr th:only-of-type {\n",
       "        vertical-align: middle;\n",
       "    }\n",
       "\n",
       "    .dataframe tbody tr th {\n",
       "        vertical-align: top;\n",
       "    }\n",
       "\n",
       "    .dataframe thead th {\n",
       "        text-align: right;\n",
       "    }\n",
       "</style>\n",
       "<table border=\"1\" class=\"dataframe\">\n",
       "  <thead>\n",
       "    <tr style=\"text-align: right;\">\n",
       "      <th></th>\n",
       "      <th>MEDV</th>\n",
       "    </tr>\n",
       "  </thead>\n",
       "  <tbody>\n",
       "    <tr>\n",
       "      <th>0</th>\n",
       "      <td>24.0</td>\n",
       "    </tr>\n",
       "    <tr>\n",
       "      <th>1</th>\n",
       "      <td>21.6</td>\n",
       "    </tr>\n",
       "    <tr>\n",
       "      <th>2</th>\n",
       "      <td>34.7</td>\n",
       "    </tr>\n",
       "    <tr>\n",
       "      <th>3</th>\n",
       "      <td>33.4</td>\n",
       "    </tr>\n",
       "    <tr>\n",
       "      <th>4</th>\n",
       "      <td>36.2</td>\n",
       "    </tr>\n",
       "  </tbody>\n",
       "</table>\n",
       "</div>"
      ],
      "text/plain": [
       "   MEDV\n",
       "0  24.0\n",
       "1  21.6\n",
       "2  34.7\n",
       "3  33.4\n",
       "4  36.2"
      ]
     },
     "execution_count": 92,
     "metadata": {},
     "output_type": "execute_result"
    }
   ],
   "source": [
    "y.head()"
   ]
  },
  {
   "cell_type": "markdown",
   "metadata": {},
   "source": [
    "### 1. Execute os passos do exercício anterior, até que você tenha uma árvore de regressão predizendo o valor do imóvel na base de treinamento."
   ]
  },
  {
   "cell_type": "markdown",
   "metadata": {},
   "source": [
    "#### 1.1 Confirmação de que a base está em formato adequado para o scikitlearn."
   ]
  },
  {
   "cell_type": "markdown",
   "metadata": {},
   "source": [
    "Scikitlearn não aceita variáveis nulas e de outros tipos que não sejam numéricas. Assim, vamos ver os tipos de dados que estão presentes na base utilizada. \n",
    "Para uma verificação mais direta, montemos uma tabela com todas as variáveis ao invés de analisar X e y."
   ]
  },
  {
   "cell_type": "code",
   "execution_count": 93,
   "metadata": {},
   "outputs": [
    {
     "name": "stdout",
     "output_type": "stream",
     "text": [
      "<class 'pandas.core.frame.DataFrame'>\n",
      "RangeIndex: 506 entries, 0 to 505\n",
      "Data columns (total 14 columns):\n",
      " #   Column   Non-Null Count  Dtype  \n",
      "---  ------   --------------  -----  \n",
      " 0   CRIM     506 non-null    float64\n",
      " 1   ZN       506 non-null    float64\n",
      " 2   INDUS    506 non-null    float64\n",
      " 3   CHAS     506 non-null    float64\n",
      " 4   NOX      506 non-null    float64\n",
      " 5   RM       506 non-null    float64\n",
      " 6   AGE      506 non-null    float64\n",
      " 7   DIS      506 non-null    float64\n",
      " 8   RAD      506 non-null    float64\n",
      " 9   TAX      506 non-null    float64\n",
      " 10  PTRATIO  506 non-null    float64\n",
      " 11  B        506 non-null    float64\n",
      " 12  LSTAT    506 non-null    float64\n",
      " 13  MEDV     506 non-null    float64\n",
      "dtypes: float64(14)\n",
      "memory usage: 55.5 KB\n"
     ]
    }
   ],
   "source": [
    "base_boston = X.copy()\n",
    "base_boston['MEDV'] = y.copy()\n",
    "base_boston.info()"
   ]
  },
  {
   "cell_type": "markdown",
   "metadata": {},
   "source": [
    "Verifica-se que todas as variáveis em base_boston são do tipo float64, sendo que nenhuma delas apresenta algum valor nulo. Logo, a base está em um formato adequado."
   ]
  },
  {
   "cell_type": "markdown",
   "metadata": {},
   "source": [
    "#### 1.2 Visualização da matriz de correlação e verificação de alguma variável com potencial preditivo interessante."
   ]
  },
  {
   "cell_type": "markdown",
   "metadata": {},
   "source": [
    "Montando a matriz de correlação, dando mais atenção aos valores na última coluna onde encontra-se a variável resposta \"MEDV\"."
   ]
  },
  {
   "cell_type": "code",
   "execution_count": 94,
   "metadata": {},
   "outputs": [
    {
     "data": {
      "text/html": [
       "<div>\n",
       "<style scoped>\n",
       "    .dataframe tbody tr th:only-of-type {\n",
       "        vertical-align: middle;\n",
       "    }\n",
       "\n",
       "    .dataframe tbody tr th {\n",
       "        vertical-align: top;\n",
       "    }\n",
       "\n",
       "    .dataframe thead th {\n",
       "        text-align: right;\n",
       "    }\n",
       "</style>\n",
       "<table border=\"1\" class=\"dataframe\">\n",
       "  <thead>\n",
       "    <tr style=\"text-align: right;\">\n",
       "      <th></th>\n",
       "      <th>CRIM</th>\n",
       "      <th>ZN</th>\n",
       "      <th>INDUS</th>\n",
       "      <th>CHAS</th>\n",
       "      <th>NOX</th>\n",
       "      <th>RM</th>\n",
       "      <th>AGE</th>\n",
       "      <th>DIS</th>\n",
       "      <th>RAD</th>\n",
       "      <th>TAX</th>\n",
       "      <th>PTRATIO</th>\n",
       "      <th>B</th>\n",
       "      <th>LSTAT</th>\n",
       "      <th>MEDV</th>\n",
       "    </tr>\n",
       "  </thead>\n",
       "  <tbody>\n",
       "    <tr>\n",
       "      <th>CRIM</th>\n",
       "      <td>1.000000</td>\n",
       "      <td>-0.200469</td>\n",
       "      <td>0.406583</td>\n",
       "      <td>-0.055892</td>\n",
       "      <td>0.420972</td>\n",
       "      <td>-0.219247</td>\n",
       "      <td>0.352734</td>\n",
       "      <td>-0.379670</td>\n",
       "      <td>0.625505</td>\n",
       "      <td>0.582764</td>\n",
       "      <td>0.289946</td>\n",
       "      <td>-0.385064</td>\n",
       "      <td>0.455621</td>\n",
       "      <td>-0.388305</td>\n",
       "    </tr>\n",
       "    <tr>\n",
       "      <th>ZN</th>\n",
       "      <td>-0.200469</td>\n",
       "      <td>1.000000</td>\n",
       "      <td>-0.533828</td>\n",
       "      <td>-0.042697</td>\n",
       "      <td>-0.516604</td>\n",
       "      <td>0.311991</td>\n",
       "      <td>-0.569537</td>\n",
       "      <td>0.664408</td>\n",
       "      <td>-0.311948</td>\n",
       "      <td>-0.314563</td>\n",
       "      <td>-0.391679</td>\n",
       "      <td>0.175520</td>\n",
       "      <td>-0.412995</td>\n",
       "      <td>0.360445</td>\n",
       "    </tr>\n",
       "    <tr>\n",
       "      <th>INDUS</th>\n",
       "      <td>0.406583</td>\n",
       "      <td>-0.533828</td>\n",
       "      <td>1.000000</td>\n",
       "      <td>0.062938</td>\n",
       "      <td>0.763651</td>\n",
       "      <td>-0.391676</td>\n",
       "      <td>0.644779</td>\n",
       "      <td>-0.708027</td>\n",
       "      <td>0.595129</td>\n",
       "      <td>0.720760</td>\n",
       "      <td>0.383248</td>\n",
       "      <td>-0.356977</td>\n",
       "      <td>0.603800</td>\n",
       "      <td>-0.483725</td>\n",
       "    </tr>\n",
       "    <tr>\n",
       "      <th>CHAS</th>\n",
       "      <td>-0.055892</td>\n",
       "      <td>-0.042697</td>\n",
       "      <td>0.062938</td>\n",
       "      <td>1.000000</td>\n",
       "      <td>0.091203</td>\n",
       "      <td>0.091251</td>\n",
       "      <td>0.086518</td>\n",
       "      <td>-0.099176</td>\n",
       "      <td>-0.007368</td>\n",
       "      <td>-0.035587</td>\n",
       "      <td>-0.121515</td>\n",
       "      <td>0.048788</td>\n",
       "      <td>-0.053929</td>\n",
       "      <td>0.175260</td>\n",
       "    </tr>\n",
       "    <tr>\n",
       "      <th>NOX</th>\n",
       "      <td>0.420972</td>\n",
       "      <td>-0.516604</td>\n",
       "      <td>0.763651</td>\n",
       "      <td>0.091203</td>\n",
       "      <td>1.000000</td>\n",
       "      <td>-0.302188</td>\n",
       "      <td>0.731470</td>\n",
       "      <td>-0.769230</td>\n",
       "      <td>0.611441</td>\n",
       "      <td>0.668023</td>\n",
       "      <td>0.188933</td>\n",
       "      <td>-0.380051</td>\n",
       "      <td>0.590879</td>\n",
       "      <td>-0.427321</td>\n",
       "    </tr>\n",
       "    <tr>\n",
       "      <th>RM</th>\n",
       "      <td>-0.219247</td>\n",
       "      <td>0.311991</td>\n",
       "      <td>-0.391676</td>\n",
       "      <td>0.091251</td>\n",
       "      <td>-0.302188</td>\n",
       "      <td>1.000000</td>\n",
       "      <td>-0.240265</td>\n",
       "      <td>0.205246</td>\n",
       "      <td>-0.209847</td>\n",
       "      <td>-0.292048</td>\n",
       "      <td>-0.355501</td>\n",
       "      <td>0.128069</td>\n",
       "      <td>-0.613808</td>\n",
       "      <td>0.695360</td>\n",
       "    </tr>\n",
       "    <tr>\n",
       "      <th>AGE</th>\n",
       "      <td>0.352734</td>\n",
       "      <td>-0.569537</td>\n",
       "      <td>0.644779</td>\n",
       "      <td>0.086518</td>\n",
       "      <td>0.731470</td>\n",
       "      <td>-0.240265</td>\n",
       "      <td>1.000000</td>\n",
       "      <td>-0.747881</td>\n",
       "      <td>0.456022</td>\n",
       "      <td>0.506456</td>\n",
       "      <td>0.261515</td>\n",
       "      <td>-0.273534</td>\n",
       "      <td>0.602339</td>\n",
       "      <td>-0.376955</td>\n",
       "    </tr>\n",
       "    <tr>\n",
       "      <th>DIS</th>\n",
       "      <td>-0.379670</td>\n",
       "      <td>0.664408</td>\n",
       "      <td>-0.708027</td>\n",
       "      <td>-0.099176</td>\n",
       "      <td>-0.769230</td>\n",
       "      <td>0.205246</td>\n",
       "      <td>-0.747881</td>\n",
       "      <td>1.000000</td>\n",
       "      <td>-0.494588</td>\n",
       "      <td>-0.534432</td>\n",
       "      <td>-0.232471</td>\n",
       "      <td>0.291512</td>\n",
       "      <td>-0.496996</td>\n",
       "      <td>0.249929</td>\n",
       "    </tr>\n",
       "    <tr>\n",
       "      <th>RAD</th>\n",
       "      <td>0.625505</td>\n",
       "      <td>-0.311948</td>\n",
       "      <td>0.595129</td>\n",
       "      <td>-0.007368</td>\n",
       "      <td>0.611441</td>\n",
       "      <td>-0.209847</td>\n",
       "      <td>0.456022</td>\n",
       "      <td>-0.494588</td>\n",
       "      <td>1.000000</td>\n",
       "      <td>0.910228</td>\n",
       "      <td>0.464741</td>\n",
       "      <td>-0.444413</td>\n",
       "      <td>0.488676</td>\n",
       "      <td>-0.381626</td>\n",
       "    </tr>\n",
       "    <tr>\n",
       "      <th>TAX</th>\n",
       "      <td>0.582764</td>\n",
       "      <td>-0.314563</td>\n",
       "      <td>0.720760</td>\n",
       "      <td>-0.035587</td>\n",
       "      <td>0.668023</td>\n",
       "      <td>-0.292048</td>\n",
       "      <td>0.506456</td>\n",
       "      <td>-0.534432</td>\n",
       "      <td>0.910228</td>\n",
       "      <td>1.000000</td>\n",
       "      <td>0.460853</td>\n",
       "      <td>-0.441808</td>\n",
       "      <td>0.543993</td>\n",
       "      <td>-0.468536</td>\n",
       "    </tr>\n",
       "    <tr>\n",
       "      <th>PTRATIO</th>\n",
       "      <td>0.289946</td>\n",
       "      <td>-0.391679</td>\n",
       "      <td>0.383248</td>\n",
       "      <td>-0.121515</td>\n",
       "      <td>0.188933</td>\n",
       "      <td>-0.355501</td>\n",
       "      <td>0.261515</td>\n",
       "      <td>-0.232471</td>\n",
       "      <td>0.464741</td>\n",
       "      <td>0.460853</td>\n",
       "      <td>1.000000</td>\n",
       "      <td>-0.177383</td>\n",
       "      <td>0.374044</td>\n",
       "      <td>-0.507787</td>\n",
       "    </tr>\n",
       "    <tr>\n",
       "      <th>B</th>\n",
       "      <td>-0.385064</td>\n",
       "      <td>0.175520</td>\n",
       "      <td>-0.356977</td>\n",
       "      <td>0.048788</td>\n",
       "      <td>-0.380051</td>\n",
       "      <td>0.128069</td>\n",
       "      <td>-0.273534</td>\n",
       "      <td>0.291512</td>\n",
       "      <td>-0.444413</td>\n",
       "      <td>-0.441808</td>\n",
       "      <td>-0.177383</td>\n",
       "      <td>1.000000</td>\n",
       "      <td>-0.366087</td>\n",
       "      <td>0.333461</td>\n",
       "    </tr>\n",
       "    <tr>\n",
       "      <th>LSTAT</th>\n",
       "      <td>0.455621</td>\n",
       "      <td>-0.412995</td>\n",
       "      <td>0.603800</td>\n",
       "      <td>-0.053929</td>\n",
       "      <td>0.590879</td>\n",
       "      <td>-0.613808</td>\n",
       "      <td>0.602339</td>\n",
       "      <td>-0.496996</td>\n",
       "      <td>0.488676</td>\n",
       "      <td>0.543993</td>\n",
       "      <td>0.374044</td>\n",
       "      <td>-0.366087</td>\n",
       "      <td>1.000000</td>\n",
       "      <td>-0.737663</td>\n",
       "    </tr>\n",
       "    <tr>\n",
       "      <th>MEDV</th>\n",
       "      <td>-0.388305</td>\n",
       "      <td>0.360445</td>\n",
       "      <td>-0.483725</td>\n",
       "      <td>0.175260</td>\n",
       "      <td>-0.427321</td>\n",
       "      <td>0.695360</td>\n",
       "      <td>-0.376955</td>\n",
       "      <td>0.249929</td>\n",
       "      <td>-0.381626</td>\n",
       "      <td>-0.468536</td>\n",
       "      <td>-0.507787</td>\n",
       "      <td>0.333461</td>\n",
       "      <td>-0.737663</td>\n",
       "      <td>1.000000</td>\n",
       "    </tr>\n",
       "  </tbody>\n",
       "</table>\n",
       "</div>"
      ],
      "text/plain": [
       "             CRIM        ZN     INDUS      CHAS       NOX        RM       AGE  \\\n",
       "CRIM     1.000000 -0.200469  0.406583 -0.055892  0.420972 -0.219247  0.352734   \n",
       "ZN      -0.200469  1.000000 -0.533828 -0.042697 -0.516604  0.311991 -0.569537   \n",
       "INDUS    0.406583 -0.533828  1.000000  0.062938  0.763651 -0.391676  0.644779   \n",
       "CHAS    -0.055892 -0.042697  0.062938  1.000000  0.091203  0.091251  0.086518   \n",
       "NOX      0.420972 -0.516604  0.763651  0.091203  1.000000 -0.302188  0.731470   \n",
       "RM      -0.219247  0.311991 -0.391676  0.091251 -0.302188  1.000000 -0.240265   \n",
       "AGE      0.352734 -0.569537  0.644779  0.086518  0.731470 -0.240265  1.000000   \n",
       "DIS     -0.379670  0.664408 -0.708027 -0.099176 -0.769230  0.205246 -0.747881   \n",
       "RAD      0.625505 -0.311948  0.595129 -0.007368  0.611441 -0.209847  0.456022   \n",
       "TAX      0.582764 -0.314563  0.720760 -0.035587  0.668023 -0.292048  0.506456   \n",
       "PTRATIO  0.289946 -0.391679  0.383248 -0.121515  0.188933 -0.355501  0.261515   \n",
       "B       -0.385064  0.175520 -0.356977  0.048788 -0.380051  0.128069 -0.273534   \n",
       "LSTAT    0.455621 -0.412995  0.603800 -0.053929  0.590879 -0.613808  0.602339   \n",
       "MEDV    -0.388305  0.360445 -0.483725  0.175260 -0.427321  0.695360 -0.376955   \n",
       "\n",
       "              DIS       RAD       TAX   PTRATIO         B     LSTAT      MEDV  \n",
       "CRIM    -0.379670  0.625505  0.582764  0.289946 -0.385064  0.455621 -0.388305  \n",
       "ZN       0.664408 -0.311948 -0.314563 -0.391679  0.175520 -0.412995  0.360445  \n",
       "INDUS   -0.708027  0.595129  0.720760  0.383248 -0.356977  0.603800 -0.483725  \n",
       "CHAS    -0.099176 -0.007368 -0.035587 -0.121515  0.048788 -0.053929  0.175260  \n",
       "NOX     -0.769230  0.611441  0.668023  0.188933 -0.380051  0.590879 -0.427321  \n",
       "RM       0.205246 -0.209847 -0.292048 -0.355501  0.128069 -0.613808  0.695360  \n",
       "AGE     -0.747881  0.456022  0.506456  0.261515 -0.273534  0.602339 -0.376955  \n",
       "DIS      1.000000 -0.494588 -0.534432 -0.232471  0.291512 -0.496996  0.249929  \n",
       "RAD     -0.494588  1.000000  0.910228  0.464741 -0.444413  0.488676 -0.381626  \n",
       "TAX     -0.534432  0.910228  1.000000  0.460853 -0.441808  0.543993 -0.468536  \n",
       "PTRATIO -0.232471  0.464741  0.460853  1.000000 -0.177383  0.374044 -0.507787  \n",
       "B        0.291512 -0.444413 -0.441808 -0.177383  1.000000 -0.366087  0.333461  \n",
       "LSTAT   -0.496996  0.488676  0.543993  0.374044 -0.366087  1.000000 -0.737663  \n",
       "MEDV     0.249929 -0.381626 -0.468536 -0.507787  0.333461 -0.737663  1.000000  "
      ]
     },
     "execution_count": 94,
     "metadata": {},
     "output_type": "execute_result"
    }
   ],
   "source": [
    "base_boston.corr()"
   ]
  },
  {
   "cell_type": "markdown",
   "metadata": {},
   "source": [
    "Há muitas variáveis presentes na base. Para uma melhor visualização das relações entre elas, vamos ver um cluster map:"
   ]
  },
  {
   "cell_type": "code",
   "execution_count": 95,
   "metadata": {},
   "outputs": [
    {
     "data": {
      "text/plain": [
       "<seaborn.matrix.ClusterGrid at 0x259136aa048>"
      ]
     },
     "execution_count": 95,
     "metadata": {},
     "output_type": "execute_result"
    },
    {
     "data": {
      "image/png": "[encoded data removed]",
      "text/plain": [
       "<Figure size 1000x1000 with 4 Axes>"
      ]
     },
     "metadata": {},
     "output_type": "display_data"
    }
   ],
   "source": [
    "cmap = sns.diverging_palette(h_neg=125, h_pos=350, as_cmap=True, sep=60, center='light')\n",
    "sns.clustermap(base_boston.corr(), figsize=(10,10), center=0, cmap=cmap)"
   ]
  },
  {
   "cell_type": "markdown",
   "metadata": {},
   "source": [
    "Visualizando o gráfico, há duas variáveis que chamam atenção em relação à variável resposta \"MEDV\", sendo elas a \"RM\" (número médio de quartos por ocupação), que apresenta uma cor rosada quase escura, estando entre 0.5 e 1 (verificando a relação na matriz de correlação, percebe-se que a relação entre elas é 0.69); e a variável \"LSTAT\" (porcentagem da população com status inferior), estando esta com uma cor verde escura, cuja correlação é menor do que -0.5 (pela matriz de correlação, aproximadamente -0.74)."
   ]
  },
  {
   "cell_type": "markdown",
   "metadata": {},
   "source": [
    "#### 1.3. Separação dos dados em validação e teste."
   ]
  },
  {
   "cell_type": "markdown",
   "metadata": {},
   "source": [
    "Sejam X_teste e y_teste as variáveis de teste, enquanto que X_valid e y_valid são as variáveis de validação. Além disso, tomemos um número inteiro aleatório em random_state para que os dados sejam sempre os mesmos. "
   ]
  },
  {
   "cell_type": "code",
   "execution_count": 96,
   "metadata": {},
   "outputs": [],
   "source": [
    "X_teste, X_valid, y_teste, y_valid = train_test_split(X, y, random_state=2360873)"
   ]
  },
  {
   "cell_type": "markdown",
   "metadata": {},
   "source": [
    "#### 1.4 Treino de uma árvore de regressão predizendo o valor do imóvel na base de treinamento."
   ]
  },
  {
   "cell_type": "markdown",
   "metadata": {},
   "source": [
    "No exercício anterior foram geradas duas árvores, uma com profundidade = 2 e outra com profundidade = 8. Considerando que a visualizada foi a de profundidade = 2, usemos a da profundidade = 8."
   ]
  },
  {
   "cell_type": "code",
   "execution_count": 104,
   "metadata": {},
   "outputs": [
    {
     "data": {
      "text/plain": [
       "DecisionTreeRegressor(max_depth=8)"
      ]
     },
     "execution_count": 104,
     "metadata": {},
     "output_type": "execute_result"
    }
   ],
   "source": [
    "arvore1 = DecisionTreeRegressor(max_depth=8)\n",
    "\n",
    "arvore1.fit(X_teste, y_teste)"
   ]
  },
  {
   "cell_type": "markdown",
   "metadata": {},
   "source": [
    "### 2.  Calcule o caminho indicado pelos CCP-alfas dessa árvore."
   ]
  },
  {
   "cell_type": "markdown",
   "metadata": {},
   "source": [
    "Seja \"caminho\" a variável na qual encontram-se os CCP-alfas e impurezas da ávore gerada."
   ]
  },
  {
   "cell_type": "code",
   "execution_count": 105,
   "metadata": {},
   "outputs": [
    {
     "data": {
      "text/plain": [
       "{'ccp_alphas': array([0.00000000e+00, 2.39972217e-15, 1.31926121e-05, 1.18733509e-04,\n",
       "        2.11081794e-04, 3.29815303e-04, 3.29815303e-04, 3.29815303e-04,\n",
       "        5.32102023e-04, 6.46437995e-04, 7.43183817e-04, 8.44327177e-04,\n",
       "        8.61917326e-04, 1.31926121e-03, 1.31926121e-03, 1.59630607e-03,\n",
       "        1.93931398e-03, 1.94283201e-03, 2.54177661e-03, 2.58575198e-03,\n",
       "        2.58575198e-03, 2.96833773e-03, 3.37730871e-03, 3.44766931e-03,\n",
       "        3.74010554e-03, 4.76253298e-03, 5.57387863e-03, 6.05892700e-03,\n",
       "        6.35004398e-03, 7.14379947e-03, 7.39226033e-03, 7.44415128e-03,\n",
       "        9.04636261e-03, 9.69656992e-03, 1.43667546e-02, 1.48636763e-02,\n",
       "        1.59630607e-02, 1.61609499e-02, 1.74854881e-02, 1.80123131e-02,\n",
       "        1.82438120e-02, 1.85795954e-02, 1.90501319e-02, 1.90501319e-02,\n",
       "        2.11081794e-02, 2.11081794e-02, 2.17733069e-02, 2.20903694e-02,\n",
       "        2.43500021e-02, 2.64127089e-02, 2.80512627e-02, 3.83189471e-02,\n",
       "        4.02249026e-02, 4.84828496e-02, 5.56300046e-02, 5.74670185e-02,\n",
       "        5.76528144e-02, 6.43843448e-02, 6.43966998e-02, 6.80456245e-02,\n",
       "        7.04982010e-02, 7.29957383e-02, 7.34573439e-02, 7.86166382e-02,\n",
       "        8.69923043e-02, 8.80846597e-02, 9.00615655e-02, 9.56285052e-02,\n",
       "        1.06391821e-01, 1.07315743e-01, 1.08039463e-01, 1.17556069e-01,\n",
       "        1.20836868e-01, 1.23806069e-01, 1.25889423e-01, 1.41876765e-01,\n",
       "        1.49256931e-01, 1.53028093e-01, 1.70434946e-01, 1.81815743e-01,\n",
       "        2.61724644e-01, 3.16622691e-01, 3.29034741e-01, 3.78556601e-01,\n",
       "        4.43611535e-01, 5.02500496e-01, 5.47321975e-01, 5.48668376e-01,\n",
       "        5.65970286e-01, 6.61912674e-01, 7.29228881e-01, 7.40135415e-01,\n",
       "        8.76702946e-01, 9.66510554e-01, 1.55245502e+00, 2.78056299e+00,\n",
       "        3.05710520e+00, 4.66113142e+00, 5.28170375e+00, 1.70606107e+01,\n",
       "        4.16718568e+01]),\n",
       " 'impurities': array([ 1.80055536,  1.80055536,  1.80056855,  1.80068729,  1.80089837,\n",
       "         1.80122818,  1.801558  ,  1.80188781,  1.80241992,  1.80306635,\n",
       "         1.80380954,  1.80465386,  1.80551578,  1.80683504,  1.8081543 ,\n",
       "         1.80975061,  1.81168992,  1.81363276,  1.81617453,  1.81876029,\n",
       "         1.82134604,  1.82431437,  1.82769168,  1.83113935,  1.83861956,\n",
       "         1.8433821 ,  1.84895598,  1.8550149 ,  1.86136495,  1.86850875,\n",
       "         1.87590101,  1.88334516,  1.89239152,  1.90208809,  1.91645484,\n",
       "         1.93131852,  1.94728158,  1.96344253,  1.98092802,  1.99894033,\n",
       "         2.01718414,  2.03576374,  2.05481387,  2.073864  ,  2.09497218,\n",
       "         2.11608036,  2.15962698,  2.18171735,  2.20606735,  2.23248006,\n",
       "         2.26053132,  2.29885027,  2.37930007,  2.42778292,  2.53904293,\n",
       "         2.59650995,  2.65416276,  2.71854711,  2.78294381,  2.91903506,\n",
       "         2.98953326,  3.13552473,  3.20898208,  3.28759872,  3.37459102,\n",
       "         3.46267568,  3.55273725,  3.64836575,  3.75475757,  3.86207332,\n",
       "         3.97011278,  4.08766885,  4.20850572,  4.33231178,  4.58409063,\n",
       "         4.7259674 ,  4.87522433,  5.02825242,  5.36912231,  5.55093806,\n",
       "         5.8126627 ,  6.12928539,  6.45832013,  7.21543333,  7.65904487,\n",
       "         8.16154536,  8.70886734,  9.25753572,  9.823506  , 10.48541868,\n",
       "        11.21464756, 11.95478297, 12.83148592, 13.79799647, 15.35045149,\n",
       "        18.13101449, 21.18811969, 25.84925111, 31.13095486, 48.19156561,\n",
       "        89.86342242])}"
      ]
     },
     "execution_count": 105,
     "metadata": {},
     "output_type": "execute_result"
    }
   ],
   "source": [
    "caminho = arvore1.cost_complexity_pruning_path(X_teste, y_teste)\n",
    "caminho"
   ]
  },
  {
   "cell_type": "markdown",
   "metadata": {},
   "source": [
    "Separando os CCP-alfas das impurezas da árvore através das variáveis \"ccp_alphas\" e \"impurezas\", visualizemos a relação entre eles. "
   ]
  },
  {
   "cell_type": "code",
   "execution_count": 106,
   "metadata": {},
   "outputs": [
    {
     "data": {
      "text/plain": [
       "Text(0, 0.5, 'Impureza das folhas')"
      ]
     },
     "execution_count": 106,
     "metadata": {},
     "output_type": "execute_result"
    },
    {
     "data": {
      "image/png": "[encoded data removed]",
      "text/plain": [
       "<Figure size 1000x600 with 1 Axes>"
      ]
     },
     "metadata": {},
     "output_type": "display_data"
    }
   ],
   "source": [
    "ccp_alphas, impurezas = caminho.ccp_alphas, caminho.impurities\n",
    "\n",
    "plt.figure(figsize=(10, 6))\n",
    "plt.plot(ccp_alphas, impurezas)\n",
    "plt.xlabel(\"Valor do alpha\")\n",
    "plt.ylabel(\"Impureza das folhas\")"
   ]
  },
  {
   "cell_type": "markdown",
   "metadata": {},
   "source": [
    "Nota-se que quanto maior o valor do CCP-alfa, maior a impureza das folhas da árvore gerada."
   ]
  },
  {
   "cell_type": "markdown",
   "metadata": {},
   "source": [
    "### 3. Paca cada valor de alpha obtido no item 2, treine uma árvore com o respectivo alfa, e guarde essa árvore em uma lista."
   ]
  },
  {
   "cell_type": "markdown",
   "metadata": {},
   "source": [
    "Seja \"arvores_alpha\" a lista na qual encontram-se as árvores geradas com cada valor de alpha obtido no item anterior."
   ]
  },
  {
   "cell_type": "code",
   "execution_count": 115,
   "metadata": {},
   "outputs": [],
   "source": [
    "arvores_alpha = []\n",
    "\n",
    "for alpha in ccp_alphas:\n",
    "    arvore_alpha = DecisionTreeRegressor(random_state=0, ccp_alpha=alpha)\n",
    "    arvore_alpha.fit(X_teste, y_teste)\n",
    "    arvores_alpha.append(arvore_alpha)"
   ]
  },
  {
   "cell_type": "markdown",
   "metadata": {},
   "source": [
    "Verificação dos itens presentes na lista gerada:"
   ]
  },
  {
   "cell_type": "code",
   "execution_count": 116,
   "metadata": {},
   "outputs": [
    {
     "data": {
      "text/plain": [
       "[DecisionTreeRegressor(random_state=0),\n",
       " DecisionTreeRegressor(ccp_alpha=1.3192612137191168e-05, random_state=0),\n",
       " DecisionTreeRegressor(ccp_alpha=0.00011873350923202083, random_state=0),\n",
       " DecisionTreeRegressor(ccp_alpha=0.00021108179419685846, random_state=0),\n",
       " DecisionTreeRegressor(ccp_alpha=0.0003298153034252797, random_state=0),\n",
       " DecisionTreeRegressor(ccp_alpha=0.00032981530342992914, random_state=0),\n",
       " DecisionTreeRegressor(ccp_alpha=0.0003298153034302666, random_state=0),\n",
       " DecisionTreeRegressor(ccp_alpha=0.0005321020228674603, random_state=0),\n",
       " DecisionTreeRegressor(ccp_alpha=0.0006464379947226672, random_state=0),\n",
       " DecisionTreeRegressor(ccp_alpha=0.0007431838170620691, random_state=0),\n",
       " DecisionTreeRegressor(ccp_alpha=0.0008443271767809847, random_state=0),\n",
       " DecisionTreeRegressor(ccp_alpha=0.0008619173263012891, random_state=0),\n",
       " DecisionTreeRegressor(ccp_alpha=0.0013192612137209166, random_state=0),\n",
       " DecisionTreeRegressor(ccp_alpha=0.0013192612137216664, random_state=0),\n",
       " DecisionTreeRegressor(ccp_alpha=0.001596306068601556, random_state=0),\n",
       " DecisionTreeRegressor(ccp_alpha=0.0019393139841675142, random_state=0),\n",
       " DecisionTreeRegressor(ccp_alpha=0.0019428320140664232, random_state=0),\n",
       " DecisionTreeRegressor(ccp_alpha=0.0025417766051016814, random_state=0),\n",
       " DecisionTreeRegressor(ccp_alpha=0.002585751978891831, random_state=0),\n",
       " DecisionTreeRegressor(ccp_alpha=0.0025857519788924687, random_state=0),\n",
       " DecisionTreeRegressor(ccp_alpha=0.002968337730870712, random_state=0),\n",
       " DecisionTreeRegressor(ccp_alpha=0.0033773087071240883, random_state=0),\n",
       " DecisionTreeRegressor(ccp_alpha=0.003447669305188808, random_state=0),\n",
       " DecisionTreeRegressor(ccp_alpha=0.0037401055408971453, random_state=0),\n",
       " DecisionTreeRegressor(ccp_alpha=0.004762532981532911, random_state=0),\n",
       " DecisionTreeRegressor(ccp_alpha=0.00557387862796252, random_state=0),\n",
       " DecisionTreeRegressor(ccp_alpha=0.006058927000880416, random_state=0),\n",
       " DecisionTreeRegressor(ccp_alpha=0.006350043975373789, random_state=0),\n",
       " DecisionTreeRegressor(ccp_alpha=0.007143799472295317, random_state=0),\n",
       " DecisionTreeRegressor(ccp_alpha=0.007392260334214818, random_state=0),\n",
       " DecisionTreeRegressor(ccp_alpha=0.00744415127528399, random_state=0),\n",
       " DecisionTreeRegressor(ccp_alpha=0.009046362608364028, random_state=0),\n",
       " DecisionTreeRegressor(ccp_alpha=0.009696569920841207, random_state=0),\n",
       " DecisionTreeRegressor(ccp_alpha=0.01436675461740868, random_state=0),\n",
       " DecisionTreeRegressor(ccp_alpha=0.01486367634124678, random_state=0),\n",
       " DecisionTreeRegressor(ccp_alpha=0.01596306068600971, random_state=0),\n",
       " DecisionTreeRegressor(ccp_alpha=0.016160949868073878, random_state=0),\n",
       " DecisionTreeRegressor(ccp_alpha=0.0174854881266485, random_state=0),\n",
       " DecisionTreeRegressor(ccp_alpha=0.018012313104664206, random_state=0),\n",
       " DecisionTreeRegressor(ccp_alpha=0.018243812036687745, random_state=0),\n",
       " DecisionTreeRegressor(ccp_alpha=0.018579595426562526, random_state=0),\n",
       " DecisionTreeRegressor(ccp_alpha=0.01905013192612111, random_state=0),\n",
       " DecisionTreeRegressor(ccp_alpha=0.019050131926121445, random_state=0),\n",
       " DecisionTreeRegressor(ccp_alpha=0.02110817941951547, random_state=0),\n",
       " DecisionTreeRegressor(ccp_alpha=0.021108179419526564, random_state=0),\n",
       " DecisionTreeRegressor(ccp_alpha=0.021773306948110704, random_state=0),\n",
       " DecisionTreeRegressor(ccp_alpha=0.022090369393123966, random_state=0),\n",
       " DecisionTreeRegressor(ccp_alpha=0.024350002094075, random_state=0),\n",
       " DecisionTreeRegressor(ccp_alpha=0.0264127088830269, random_state=0),\n",
       " DecisionTreeRegressor(ccp_alpha=0.02805126272144802, random_state=0),\n",
       " DecisionTreeRegressor(ccp_alpha=0.03831894710390465, random_state=0),\n",
       " DecisionTreeRegressor(ccp_alpha=0.04022490262595642, random_state=0),\n",
       " DecisionTreeRegressor(ccp_alpha=0.04848284960422433, random_state=0),\n",
       " DecisionTreeRegressor(ccp_alpha=0.055630004588732435, random_state=0),\n",
       " DecisionTreeRegressor(ccp_alpha=0.05746701846965752, random_state=0),\n",
       " DecisionTreeRegressor(ccp_alpha=0.05765281442392319, random_state=0),\n",
       " DecisionTreeRegressor(ccp_alpha=0.06438434476692804, random_state=0),\n",
       " DecisionTreeRegressor(ccp_alpha=0.06439669975289307, random_state=0),\n",
       " DecisionTreeRegressor(ccp_alpha=0.06804562445030708, random_state=0),\n",
       " DecisionTreeRegressor(ccp_alpha=0.07049820100743759, random_state=0),\n",
       " DecisionTreeRegressor(ccp_alpha=0.07299573826892528, random_state=0),\n",
       " DecisionTreeRegressor(ccp_alpha=0.07345734388742961, random_state=0),\n",
       " DecisionTreeRegressor(ccp_alpha=0.07861663821200095, random_state=0),\n",
       " DecisionTreeRegressor(ccp_alpha=0.08699230430959573, random_state=0),\n",
       " DecisionTreeRegressor(ccp_alpha=0.08808465968739143, random_state=0),\n",
       " DecisionTreeRegressor(ccp_alpha=0.09006156552330873, random_state=0),\n",
       " DecisionTreeRegressor(ccp_alpha=0.09562850517995583, random_state=0),\n",
       " DecisionTreeRegressor(ccp_alpha=0.10639182058047911, random_state=0),\n",
       " DecisionTreeRegressor(ccp_alpha=0.10731574318381693, random_state=0),\n",
       " DecisionTreeRegressor(ccp_alpha=0.10803946311805046, random_state=0),\n",
       " DecisionTreeRegressor(ccp_alpha=0.11755606860158291, random_state=0),\n",
       " DecisionTreeRegressor(ccp_alpha=0.12083686789535109, random_state=0),\n",
       " DecisionTreeRegressor(ccp_alpha=0.12380606860159236, random_state=0),\n",
       " DecisionTreeRegressor(ccp_alpha=0.125889423491448, random_state=0),\n",
       " DecisionTreeRegressor(ccp_alpha=0.1418767654819176, random_state=0),\n",
       " DecisionTreeRegressor(ccp_alpha=0.14925693090129105, random_state=0),\n",
       " DecisionTreeRegressor(ccp_alpha=0.1530280925035054, random_state=0),\n",
       " DecisionTreeRegressor(ccp_alpha=0.17043494649208943, random_state=0),\n",
       " DecisionTreeRegressor(ccp_alpha=0.18181574318383129, random_state=0),\n",
       " DecisionTreeRegressor(ccp_alpha=0.2617246437433065, random_state=0),\n",
       " DecisionTreeRegressor(ccp_alpha=0.316622691292876, random_state=0),\n",
       " DecisionTreeRegressor(ccp_alpha=0.32903474054529935, random_state=0),\n",
       " DecisionTreeRegressor(ccp_alpha=0.3785566013801648, random_state=0),\n",
       " DecisionTreeRegressor(ccp_alpha=0.4436115348168619, random_state=0),\n",
       " DecisionTreeRegressor(ccp_alpha=0.5025004958925142, random_state=0),\n",
       " DecisionTreeRegressor(ccp_alpha=0.5473219745534419, random_state=0),\n",
       " DecisionTreeRegressor(ccp_alpha=0.5486683763728405, random_state=0),\n",
       " DecisionTreeRegressor(ccp_alpha=0.5659702862752933, random_state=0),\n",
       " DecisionTreeRegressor(ccp_alpha=0.6619126740765213, random_state=0),\n",
       " DecisionTreeRegressor(ccp_alpha=0.7292288812542889, random_state=0),\n",
       " DecisionTreeRegressor(ccp_alpha=0.7401354154716695, random_state=0),\n",
       " DecisionTreeRegressor(ccp_alpha=0.8767029463498783, random_state=0),\n",
       " DecisionTreeRegressor(ccp_alpha=0.9665105540897083, random_state=0),\n",
       " DecisionTreeRegressor(ccp_alpha=1.5524550208404746, random_state=0),\n",
       " DecisionTreeRegressor(ccp_alpha=2.7805629928631426, random_state=0),\n",
       " DecisionTreeRegressor(ccp_alpha=3.0571051999988237, random_state=0),\n",
       " DecisionTreeRegressor(ccp_alpha=4.661131420665912, random_state=0),\n",
       " DecisionTreeRegressor(ccp_alpha=5.281703754061925, random_state=0),\n",
       " DecisionTreeRegressor(ccp_alpha=17.060610749708836, random_state=0),\n",
       " DecisionTreeRegressor(ccp_alpha=41.67185680975385, random_state=0)]"
      ]
     },
     "execution_count": 116,
     "metadata": {},
     "output_type": "execute_result"
    }
   ],
   "source": [
    "arvores_alfa"
   ]
  },
  {
   "cell_type": "markdown",
   "metadata": {},
   "source": [
    "### 4. Para cada árvore na lista, calcule o MSE da árvore."
   ]
  },
  {
   "cell_type": "markdown",
   "metadata": {},
   "source": [
    "Calculando os MSE de cada árvore da lista, tanto na base de teste quanto na de verificação e inserindo-os em listas nomeadas \"mse_teste\" e \"mse_validacao\":"
   ]
  },
  {
   "cell_type": "code",
   "execution_count": 117,
   "metadata": {},
   "outputs": [],
   "source": [
    "mse_teste = [mean_squared_error(y_teste, arvore.predict(X_teste)) for arvore in arvores_alfa]\n",
    "mse_validacao = [mean_squared_error(y_valid, arvore.predict(X_valid)) for arvore in arvores_alfa]"
   ]
  },
  {
   "cell_type": "markdown",
   "metadata": {},
   "source": [
    "### 5. Monte um gráfico do MSE pelo alpha, escolha um valor de alpha perto do ponto de mínimo do MSE"
   ]
  },
  {
   "cell_type": "markdown",
   "metadata": {},
   "source": [
    "Gerando um gráfico na qual encontram-se tantos os MSE na base de teste quanto na de validação:"
   ]
  },
  {
   "cell_type": "code",
   "execution_count": 135,
   "metadata": {},
   "outputs": [
    {
     "data": {
      "image/png": "[encoded data removed]",
      "text/plain": [
       "<Figure size 1000x600 with 1 Axes>"
      ]
     },
     "metadata": {},
     "output_type": "display_data"
    }
   ],
   "source": [
    "figura, eixos = plt.subplots(figsize=(10, 6))\n",
    "eixos.set_xlabel(\"alpha\")\n",
    "eixos.set_ylabel(\"MSE\")\n",
    "eixos.plot(ccp_alphas[:-1], mse_teste, marker='o', label=\"Teste\",\n",
    "        drawstyle=\"steps-post\")\n",
    "eixos.plot(ccp_alphas[:-1], mse_validacao, marker='o', label=\"Validação\",\n",
    "        drawstyle=\"steps-post\")\n",
    "eixos.legend()\n",
    "plt.xticks(range(-1, 18, 1))\n",
    "plt.show()"
   ]
  },
  {
   "cell_type": "markdown",
   "metadata": {},
   "source": [
    "Observa-se que o MSE mínimo da base de validação está na região em alpha = 1."
   ]
  },
  {
   "cell_type": "markdown",
   "metadata": {},
   "source": [
    "### 6. Calcule o R-quadrado dessa árvore encontrada no item acima"
   ]
  },
  {
   "cell_type": "markdown",
   "metadata": {},
   "source": [
    "Gerando uma árvore com o alpha = 1 na base de teste e verificando o seu R-quadrado na base de validação:"
   ]
  },
  {
   "cell_type": "code",
   "execution_count": 138,
   "metadata": {},
   "outputs": [
    {
     "name": "stdout",
     "output_type": "stream",
     "text": [
      "O R-quadrado da ávore com alpha = 1 na base de validação é: 0.66\n"
     ]
    }
   ],
   "source": [
    "arvore_final = DecisionTreeRegressor(random_state=0, ccp_alpha=1)\n",
    "arvore_final.fit(X_teste, y_teste)\n",
    "\n",
    "print(f\"O R-quadrado da ávore com alpha = 1 na base de validação é: {arvore_final.score(X_valid, y_valid):.2f}\")"
   ]
  },
  {
   "cell_type": "markdown",
   "metadata": {},
   "source": [
    "### 7. Visualize esta árvore."
   ]
  },
  {
   "cell_type": "markdown",
   "metadata": {},
   "source": [
    "Realizando a visualização da árvore através do graphviz:"
   ]
  },
  {
   "cell_type": "code",
   "execution_count": 139,
   "metadata": {},
   "outputs": [
    {
     "data": {
      "image/svg+xml": [
       "<?xml version=\"1.0\" encoding=\"UTF-8\" standalone=\"no\"?>\n",
       "<!DOCTYPE svg PUBLIC \"-//W3C//DTD SVG 1.1//EN\"\n",
       " \"http://www.w3.org/Graphics/SVG/1.1/DTD/svg11.dtd\">\n",
       "<!-- Generated by graphviz version 8.0.2 (20230410.1723)\n",
       " -->\n",
       "<!-- Title: Tree Pages: 1 -->\n",
       "<svg width=\"1080pt\" height=\"477pt\"\n",
       " viewBox=\"0.00 0.00 1080.00 477.00\" xmlns=\"http://www.w3.org/2000/svg\" xmlns:xlink=\"http://www.w3.org/1999/xlink\">\n",
       "<g id=\"graph0\" class=\"graph\" transform=\"scale(1 1) rotate(0) translate(4 473)\">\n",
       "<title>Tree</title>\n",
       "<polygon fill=\"white\" stroke=\"none\" points=\"-4,4 -4,-473 1076,-473 1076,4 -4,4\"/>\n",
       "<!-- 0 -->\n",
       "<g id=\"node1\" class=\"node\">\n",
       "<title>0</title>\n",
       "<polygon fill=\"#f7d9c3\" stroke=\"black\" points=\"629,-469 462,-469 462,-401 629,-401 629,-469\"/>\n",
       "<text text-anchor=\"middle\" x=\"545.5\" y=\"-453.8\" font-family=\"Helvetica,sans-Serif\" font-size=\"14.00\">RM &lt;= 6.978</text>\n",
       "<text text-anchor=\"middle\" x=\"545.5\" y=\"-438.8\" font-family=\"Helvetica,sans-Serif\" font-size=\"14.00\">squared_error = 89.863</text>\n",
       "<text text-anchor=\"middle\" x=\"545.5\" y=\"-423.8\" font-family=\"Helvetica,sans-Serif\" font-size=\"14.00\">samples = 379</text>\n",
       "<text text-anchor=\"middle\" x=\"545.5\" y=\"-408.8\" font-family=\"Helvetica,sans-Serif\" font-size=\"14.00\">value = 22.37</text>\n",
       "</g>\n",
       "<!-- 1 -->\n",
       "<g id=\"node2\" class=\"node\">\n",
       "<title>1</title>\n",
       "<polygon fill=\"#f9e2d1\" stroke=\"black\" points=\"537,-365 370,-365 370,-297 537,-297 537,-365\"/>\n",
       "<text text-anchor=\"middle\" x=\"453.5\" y=\"-349.8\" font-family=\"Helvetica,sans-Serif\" font-size=\"14.00\">LSTAT &lt;= 14.4</text>\n",
       "<text text-anchor=\"middle\" x=\"453.5\" y=\"-334.8\" font-family=\"Helvetica,sans-Serif\" font-size=\"14.00\">squared_error = 43.812</text>\n",
       "<text text-anchor=\"middle\" x=\"453.5\" y=\"-319.8\" font-family=\"Helvetica,sans-Serif\" font-size=\"14.00\">samples = 330</text>\n",
       "<text text-anchor=\"middle\" x=\"453.5\" y=\"-304.8\" font-family=\"Helvetica,sans-Serif\" font-size=\"14.00\">value = 19.882</text>\n",
       "</g>\n",
       "<!-- 0&#45;&gt;1 -->\n",
       "<g id=\"edge1\" class=\"edge\">\n",
       "<title>0&#45;&gt;1</title>\n",
       "<path fill=\"none\" stroke=\"black\" d=\"M515.38,-400.6C507.59,-391.97 499.12,-382.58 491.01,-373.58\"/>\n",
       "<polygon fill=\"black\" stroke=\"black\" points=\"493.99,-371.56 484.69,-366.47 488.79,-376.24 493.99,-371.56\"/>\n",
       "<text text-anchor=\"middle\" x=\"482.4\" y=\"-386.74\" font-family=\"Helvetica,sans-Serif\" font-size=\"14.00\">True</text>\n",
       "</g>\n",
       "<!-- 10 -->\n",
       "<g id=\"node11\" class=\"node\">\n",
       "<title>10</title>\n",
       "<polygon fill=\"#eb9c64\" stroke=\"black\" points=\"722,-365 555,-365 555,-297 722,-297 722,-365\"/>\n",
       "<text text-anchor=\"middle\" x=\"638.5\" y=\"-349.8\" font-family=\"Helvetica,sans-Serif\" font-size=\"14.00\">RM &lt;= 7.437</text>\n",
       "<text text-anchor=\"middle\" x=\"638.5\" y=\"-334.8\" font-family=\"Helvetica,sans-Serif\" font-size=\"14.00\">squared_error = 77.689</text>\n",
       "<text text-anchor=\"middle\" x=\"638.5\" y=\"-319.8\" font-family=\"Helvetica,sans-Serif\" font-size=\"14.00\">samples = 49</text>\n",
       "<text text-anchor=\"middle\" x=\"638.5\" y=\"-304.8\" font-family=\"Helvetica,sans-Serif\" font-size=\"14.00\">value = 39.122</text>\n",
       "</g>\n",
       "<!-- 0&#45;&gt;10 -->\n",
       "<g id=\"edge10\" class=\"edge\">\n",
       "<title>0&#45;&gt;10</title>\n",
       "<path fill=\"none\" stroke=\"black\" d=\"M575.95,-400.6C583.82,-391.97 592.39,-382.58 600.59,-373.58\"/>\n",
       "<polygon fill=\"black\" stroke=\"black\" points=\"602.83,-376.22 606.98,-366.47 597.66,-371.51 602.83,-376.22\"/>\n",
       "<text text-anchor=\"middle\" x=\"609.13\" y=\"-386.75\" font-family=\"Helvetica,sans-Serif\" font-size=\"14.00\">False</text>\n",
       "</g>\n",
       "<!-- 2 -->\n",
       "<g id=\"node3\" class=\"node\">\n",
       "<title>2</title>\n",
       "<polygon fill=\"#f6d4bb\" stroke=\"black\" points=\"352,-261 185,-261 185,-193 352,-193 352,-261\"/>\n",
       "<text text-anchor=\"middle\" x=\"268.5\" y=\"-245.8\" font-family=\"Helvetica,sans-Serif\" font-size=\"14.00\">DIS &lt;= 1.434</text>\n",
       "<text text-anchor=\"middle\" x=\"268.5\" y=\"-230.8\" font-family=\"Helvetica,sans-Serif\" font-size=\"14.00\">squared_error = 27.657</text>\n",
       "<text text-anchor=\"middle\" x=\"268.5\" y=\"-215.8\" font-family=\"Helvetica,sans-Serif\" font-size=\"14.00\">samples = 190</text>\n",
       "<text text-anchor=\"middle\" x=\"268.5\" y=\"-200.8\" font-family=\"Helvetica,sans-Serif\" font-size=\"14.00\">value = 23.682</text>\n",
       "</g>\n",
       "<!-- 1&#45;&gt;2 -->\n",
       "<g id=\"edge2\" class=\"edge\">\n",
       "<title>1&#45;&gt;2</title>\n",
       "<path fill=\"none\" stroke=\"black\" d=\"M392.92,-296.6C375.52,-287 356.39,-276.46 338.46,-266.57\"/>\n",
       "<polygon fill=\"black\" stroke=\"black\" points=\"340.66,-263.24 330.21,-261.47 337.28,-269.37 340.66,-263.24\"/>\n",
       "</g>\n",
       "<!-- 7 -->\n",
       "<g id=\"node8\" class=\"node\">\n",
       "<title>7</title>\n",
       "<polygon fill=\"#fdf4ee\" stroke=\"black\" points=\"533,-261 374,-261 374,-193 533,-193 533,-261\"/>\n",
       "<text text-anchor=\"middle\" x=\"453.5\" y=\"-245.8\" font-family=\"Helvetica,sans-Serif\" font-size=\"14.00\">CRIM &lt;= 6.341</text>\n",
       "<text text-anchor=\"middle\" x=\"453.5\" y=\"-230.8\" font-family=\"Helvetica,sans-Serif\" font-size=\"14.00\">squared_error = 19.55</text>\n",
       "<text text-anchor=\"middle\" x=\"453.5\" y=\"-215.8\" font-family=\"Helvetica,sans-Serif\" font-size=\"14.00\">samples = 140</text>\n",
       "<text text-anchor=\"middle\" x=\"453.5\" y=\"-200.8\" font-family=\"Helvetica,sans-Serif\" font-size=\"14.00\">value = 14.726</text>\n",
       "</g>\n",
       "<!-- 1&#45;&gt;7 -->\n",
       "<g id=\"edge7\" class=\"edge\">\n",
       "<title>1&#45;&gt;7</title>\n",
       "<path fill=\"none\" stroke=\"black\" d=\"M453.5,-296.6C453.5,-288.85 453.5,-280.49 453.5,-272.35\"/>\n",
       "<polygon fill=\"black\" stroke=\"black\" points=\"457,-272.47 453.5,-262.47 450,-272.47 457,-272.47\"/>\n",
       "</g>\n",
       "<!-- 3 -->\n",
       "<g id=\"node4\" class=\"node\">\n",
       "<title>3</title>\n",
       "<polygon fill=\"#e78945\" stroke=\"black\" points=\"167,-149.5 0,-149.5 0,-96.5 167,-96.5 167,-149.5\"/>\n",
       "<text text-anchor=\"middle\" x=\"83.5\" y=\"-134.3\" font-family=\"Helvetica,sans-Serif\" font-size=\"14.00\">squared_error = 91.577</text>\n",
       "<text text-anchor=\"middle\" x=\"83.5\" y=\"-119.3\" font-family=\"Helvetica,sans-Serif\" font-size=\"14.00\">samples = 4</text>\n",
       "<text text-anchor=\"middle\" x=\"83.5\" y=\"-104.3\" font-family=\"Helvetica,sans-Serif\" font-size=\"14.00\">value = 44.475</text>\n",
       "</g>\n",
       "<!-- 2&#45;&gt;3 -->\n",
       "<g id=\"edge3\" class=\"edge\">\n",
       "<title>2&#45;&gt;3</title>\n",
       "<path fill=\"none\" stroke=\"black\" d=\"M207.92,-192.6C185.99,-180.51 161.32,-166.9 139.76,-155.02\"/>\n",
       "<polygon fill=\"black\" stroke=\"black\" points=\"141.87,-151.63 131.42,-149.87 138.49,-157.76 141.87,-151.63\"/>\n",
       "</g>\n",
       "<!-- 4 -->\n",
       "<g id=\"node5\" class=\"node\">\n",
       "<title>4</title>\n",
       "<polygon fill=\"#f6d6be\" stroke=\"black\" points=\"352,-157 185,-157 185,-89 352,-89 352,-157\"/>\n",
       "<text text-anchor=\"middle\" x=\"268.5\" y=\"-141.8\" font-family=\"Helvetica,sans-Serif\" font-size=\"14.00\">RM &lt;= 6.594</text>\n",
       "<text text-anchor=\"middle\" x=\"268.5\" y=\"-126.8\" font-family=\"Helvetica,sans-Serif\" font-size=\"14.00\">squared_error = 16.785</text>\n",
       "<text text-anchor=\"middle\" x=\"268.5\" y=\"-111.8\" font-family=\"Helvetica,sans-Serif\" font-size=\"14.00\">samples = 186</text>\n",
       "<text text-anchor=\"middle\" x=\"268.5\" y=\"-96.8\" font-family=\"Helvetica,sans-Serif\" font-size=\"14.00\">value = 23.235</text>\n",
       "</g>\n",
       "<!-- 2&#45;&gt;4 -->\n",
       "<g id=\"edge4\" class=\"edge\">\n",
       "<title>2&#45;&gt;4</title>\n",
       "<path fill=\"none\" stroke=\"black\" d=\"M268.5,-192.6C268.5,-184.85 268.5,-176.49 268.5,-168.35\"/>\n",
       "<polygon fill=\"black\" stroke=\"black\" points=\"272,-168.47 268.5,-158.47 265,-168.47 272,-168.47\"/>\n",
       "</g>\n",
       "<!-- 5 -->\n",
       "<g id=\"node6\" class=\"node\">\n",
       "<title>5</title>\n",
       "<polygon fill=\"#f7dac5\" stroke=\"black\" points=\"257,-53 98,-53 98,0 257,0 257,-53\"/>\n",
       "<text text-anchor=\"middle\" x=\"177.5\" y=\"-37.8\" font-family=\"Helvetica,sans-Serif\" font-size=\"14.00\">squared_error = 8.708</text>\n",
       "<text text-anchor=\"middle\" x=\"177.5\" y=\"-22.8\" font-family=\"Helvetica,sans-Serif\" font-size=\"14.00\">samples = 148</text>\n",
       "<text text-anchor=\"middle\" x=\"177.5\" y=\"-7.8\" font-family=\"Helvetica,sans-Serif\" font-size=\"14.00\">value = 21.97</text>\n",
       "</g>\n",
       "<!-- 4&#45;&gt;5 -->\n",
       "<g id=\"edge5\" class=\"edge\">\n",
       "<title>4&#45;&gt;5</title>\n",
       "<path fill=\"none\" stroke=\"black\" d=\"M236.42,-88.68C227.79,-79.72 218.45,-70.03 209.81,-61.06\"/>\n",
       "<polygon fill=\"black\" stroke=\"black\" points=\"212.89,-59.17 203.43,-54.39 207.85,-64.02 212.89,-59.17\"/>\n",
       "</g>\n",
       "<!-- 6 -->\n",
       "<g id=\"node7\" class=\"node\">\n",
       "<title>6</title>\n",
       "<polygon fill=\"#f3c4a2\" stroke=\"black\" points=\"442,-53 275,-53 275,0 442,0 442,-53\"/>\n",
       "<text text-anchor=\"middle\" x=\"358.5\" y=\"-37.8\" font-family=\"Helvetica,sans-Serif\" font-size=\"14.00\">squared_error = 17.751</text>\n",
       "<text text-anchor=\"middle\" x=\"358.5\" y=\"-22.8\" font-family=\"Helvetica,sans-Serif\" font-size=\"14.00\">samples = 38</text>\n",
       "<text text-anchor=\"middle\" x=\"358.5\" y=\"-7.8\" font-family=\"Helvetica,sans-Serif\" font-size=\"14.00\">value = 28.161</text>\n",
       "</g>\n",
       "<!-- 4&#45;&gt;6 -->\n",
       "<g id=\"edge6\" class=\"edge\">\n",
       "<title>4&#45;&gt;6</title>\n",
       "<path fill=\"none\" stroke=\"black\" d=\"M300.23,-88.68C308.68,-79.81 317.81,-70.23 326.28,-61.33\"/>\n",
       "<polygon fill=\"black\" stroke=\"black\" points=\"328.48,-64.05 332.84,-54.39 323.41,-59.22 328.48,-64.05\"/>\n",
       "</g>\n",
       "<!-- 8 -->\n",
       "<g id=\"node9\" class=\"node\">\n",
       "<title>8</title>\n",
       "<polygon fill=\"#fbebe0\" stroke=\"black\" points=\"537,-149.5 370,-149.5 370,-96.5 537,-96.5 537,-149.5\"/>\n",
       "<text text-anchor=\"middle\" x=\"453.5\" y=\"-134.3\" font-family=\"Helvetica,sans-Serif\" font-size=\"14.00\">squared_error = 12.256</text>\n",
       "<text text-anchor=\"middle\" x=\"453.5\" y=\"-119.3\" font-family=\"Helvetica,sans-Serif\" font-size=\"14.00\">samples = 76</text>\n",
       "<text text-anchor=\"middle\" x=\"453.5\" y=\"-104.3\" font-family=\"Helvetica,sans-Serif\" font-size=\"14.00\">value = 17.243</text>\n",
       "</g>\n",
       "<!-- 7&#45;&gt;8 -->\n",
       "<g id=\"edge8\" class=\"edge\">\n",
       "<title>7&#45;&gt;8</title>\n",
       "<path fill=\"none\" stroke=\"black\" d=\"M453.5,-192.6C453.5,-182.36 453.5,-171.04 453.5,-160.6\"/>\n",
       "<polygon fill=\"black\" stroke=\"black\" points=\"457,-160.71 453.5,-150.71 450,-160.71 457,-160.71\"/>\n",
       "</g>\n",
       "<!-- 9 -->\n",
       "<g id=\"node10\" class=\"node\">\n",
       "<title>9</title>\n",
       "<polygon fill=\"#ffffff\" stroke=\"black\" points=\"722,-149.5 555,-149.5 555,-96.5 722,-96.5 722,-149.5\"/>\n",
       "<text text-anchor=\"middle\" x=\"638.5\" y=\"-134.3\" font-family=\"Helvetica,sans-Serif\" font-size=\"14.00\">squared_error = 11.745</text>\n",
       "<text text-anchor=\"middle\" x=\"638.5\" y=\"-119.3\" font-family=\"Helvetica,sans-Serif\" font-size=\"14.00\">samples = 64</text>\n",
       "<text text-anchor=\"middle\" x=\"638.5\" y=\"-104.3\" font-family=\"Helvetica,sans-Serif\" font-size=\"14.00\">value = 11.736</text>\n",
       "</g>\n",
       "<!-- 7&#45;&gt;9 -->\n",
       "<g id=\"edge9\" class=\"edge\">\n",
       "<title>7&#45;&gt;9</title>\n",
       "<path fill=\"none\" stroke=\"black\" d=\"M514.08,-192.6C536.01,-180.51 560.68,-166.9 582.24,-155.02\"/>\n",
       "<polygon fill=\"black\" stroke=\"black\" points=\"583.51,-157.76 590.58,-149.87 580.13,-151.63 583.51,-157.76\"/>\n",
       "</g>\n",
       "<!-- 11 -->\n",
       "<g id=\"node12\" class=\"node\">\n",
       "<title>11</title>\n",
       "<polygon fill=\"#efb387\" stroke=\"black\" points=\"722,-253.5 555,-253.5 555,-200.5 722,-200.5 722,-253.5\"/>\n",
       "<text text-anchor=\"middle\" x=\"638.5\" y=\"-238.3\" font-family=\"Helvetica,sans-Serif\" font-size=\"14.00\">squared_error = 33.674</text>\n",
       "<text text-anchor=\"middle\" x=\"638.5\" y=\"-223.3\" font-family=\"Helvetica,sans-Serif\" font-size=\"14.00\">samples = 25</text>\n",
       "<text text-anchor=\"middle\" x=\"638.5\" y=\"-208.3\" font-family=\"Helvetica,sans-Serif\" font-size=\"14.00\">value = 32.86</text>\n",
       "</g>\n",
       "<!-- 10&#45;&gt;11 -->\n",
       "<g id=\"edge11\" class=\"edge\">\n",
       "<title>10&#45;&gt;11</title>\n",
       "<path fill=\"none\" stroke=\"black\" d=\"M638.5,-296.6C638.5,-286.36 638.5,-275.04 638.5,-264.6\"/>\n",
       "<polygon fill=\"black\" stroke=\"black\" points=\"642,-264.71 638.5,-254.71 635,-264.71 642,-264.71\"/>\n",
       "</g>\n",
       "<!-- 12 -->\n",
       "<g id=\"node13\" class=\"node\">\n",
       "<title>12</title>\n",
       "<polygon fill=\"#e6853f\" stroke=\"black\" points=\"907,-261 740,-261 740,-193 907,-193 907,-261\"/>\n",
       "<text text-anchor=\"middle\" x=\"823.5\" y=\"-245.8\" font-family=\"Helvetica,sans-Serif\" font-size=\"14.00\">PTRATIO &lt;= 19.65</text>\n",
       "<text text-anchor=\"middle\" x=\"823.5\" y=\"-230.8\" font-family=\"Helvetica,sans-Serif\" font-size=\"14.00\">squared_error = 40.131</text>\n",
       "<text text-anchor=\"middle\" x=\"823.5\" y=\"-215.8\" font-family=\"Helvetica,sans-Serif\" font-size=\"14.00\">samples = 24</text>\n",
       "<text text-anchor=\"middle\" x=\"823.5\" y=\"-200.8\" font-family=\"Helvetica,sans-Serif\" font-size=\"14.00\">value = 45.646</text>\n",
       "</g>\n",
       "<!-- 10&#45;&gt;12 -->\n",
       "<g id=\"edge12\" class=\"edge\">\n",
       "<title>10&#45;&gt;12</title>\n",
       "<path fill=\"none\" stroke=\"black\" d=\"M699.08,-296.6C716.48,-287 735.61,-276.46 753.54,-266.57\"/>\n",
       "<polygon fill=\"black\" stroke=\"black\" points=\"754.72,-269.37 761.79,-261.47 751.34,-263.24 754.72,-269.37\"/>\n",
       "</g>\n",
       "<!-- 13 -->\n",
       "<g id=\"node14\" class=\"node\">\n",
       "<title>13</title>\n",
       "<polygon fill=\"#e58139\" stroke=\"black\" points=\"907,-149.5 740,-149.5 740,-96.5 907,-96.5 907,-149.5\"/>\n",
       "<text text-anchor=\"middle\" x=\"823.5\" y=\"-134.3\" font-family=\"Helvetica,sans-Serif\" font-size=\"14.00\">squared_error = 16.294</text>\n",
       "<text text-anchor=\"middle\" x=\"823.5\" y=\"-119.3\" font-family=\"Helvetica,sans-Serif\" font-size=\"14.00\">samples = 23</text>\n",
       "<text text-anchor=\"middle\" x=\"823.5\" y=\"-104.3\" font-family=\"Helvetica,sans-Serif\" font-size=\"14.00\">value = 46.678</text>\n",
       "</g>\n",
       "<!-- 12&#45;&gt;13 -->\n",
       "<g id=\"edge13\" class=\"edge\">\n",
       "<title>12&#45;&gt;13</title>\n",
       "<path fill=\"none\" stroke=\"black\" d=\"M823.5,-192.6C823.5,-182.36 823.5,-171.04 823.5,-160.6\"/>\n",
       "<polygon fill=\"black\" stroke=\"black\" points=\"827,-160.71 823.5,-150.71 820,-160.71 827,-160.71\"/>\n",
       "</g>\n",
       "<!-- 14 -->\n",
       "<g id=\"node15\" class=\"node\">\n",
       "<title>14</title>\n",
       "<polygon fill=\"#f7dac5\" stroke=\"black\" points=\"1072,-149.5 925,-149.5 925,-96.5 1072,-96.5 1072,-149.5\"/>\n",
       "<text text-anchor=\"middle\" x=\"998.5\" y=\"-134.3\" font-family=\"Helvetica,sans-Serif\" font-size=\"14.00\">squared_error = &#45;0.0</text>\n",
       "<text text-anchor=\"middle\" x=\"998.5\" y=\"-119.3\" font-family=\"Helvetica,sans-Serif\" font-size=\"14.00\">samples = 1</text>\n",
       "<text text-anchor=\"middle\" x=\"998.5\" y=\"-104.3\" font-family=\"Helvetica,sans-Serif\" font-size=\"14.00\">value = 21.9</text>\n",
       "</g>\n",
       "<!-- 12&#45;&gt;14 -->\n",
       "<g id=\"edge14\" class=\"edge\">\n",
       "<title>12&#45;&gt;14</title>\n",
       "<path fill=\"none\" stroke=\"black\" d=\"M880.8,-192.6C901.37,-180.61 924.47,-167.15 944.73,-155.34\"/>\n",
       "<polygon fill=\"black\" stroke=\"black\" points=\"946.24,-157.93 953.12,-149.87 942.72,-151.88 946.24,-157.93\"/>\n",
       "</g>\n",
       "</g>\n",
       "</svg>\n"
      ],
      "text/plain": [
       "<graphviz.sources.Source at 0x259166f3d88>"
      ]
     },
     "execution_count": 139,
     "metadata": {},
     "output_type": "execute_result"
    }
   ],
   "source": [
    "dados_arvore = tree.export_graphviz(arvore_final, out_file=None,\n",
    "                                    feature_names=X.columns,\n",
    "                                    filled=True)\n",
    "\n",
    "grafico_arvore = graphviz.Source(dados_arvore, format=\"png\")\n",
    "grafico_arvore"
   ]
  },
  {
   "cell_type": "markdown",
   "metadata": {},
   "source": [
    "Novamente, a variável presente no nó raíz é a RM, seguida pela LSTAT, tal como foi no exercício 1. Entretanto, na nova árvore também encontram-se as variáveis CRIM (taxa de crimes per-capita da cidade), DIS (distâncias ponderadas entre até cinco centros de empregos de Boston) e PTRATIO (razão pupilo-professor da cidade)."
   ]
  }
 ],
 "metadata": {
  "kernelspec": {
   "display_name": "Python 3 (ipykernel)",
   "language": "python",
   "name": "python3"
  },
  "language_info": {
   "codemirror_mode": {
    "name": "ipython",
    "version": 3
   },
   "file_extension": ".py",
   "mimetype": "text/x-python",
   "name": "python",
   "nbconvert_exporter": "python",
   "pygments_lexer": "ipython3",
   "version": "3.7.13"
  }
 },
 "nbformat": 4,
 "nbformat_minor": 4
}
