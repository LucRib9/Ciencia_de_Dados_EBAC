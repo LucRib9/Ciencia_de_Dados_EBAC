{
  "cells": [
    {
      "cell_type": "markdown",
      "metadata": {
        "id": "6dwKm9DRt_ZG"
      },
      "source": [
        "# Módulo 5 Tarefa 1\n",
        "## Base de nascidos vivos do DataSUS\n",
        "O DataSUS disponibiliza diversos arquivos de dados com relação a seus segurados, conforme a [lei da transparência de informações públicas](https://www.sisgov.com/transparencia-acesso-informacao/#:~:text=A%20Lei%20da%20Transpar%C3%AAncia%20(LC,em%20um%20site%20na%20internet.). \n",
        "\n",
        "Essas informações podem ser obtidas pela internet [aqui](http://www2.datasus.gov.br/DATASUS/index.php?area=0901&item=1). Como o processo de obtenção desses arquivos foge um pouco do nosso escopo, deixamos o arquivo ```SINASC_RO_2019.csv``` já como vai ser encontrado no DataSUS. O dicionário de dados está no arquivo ```estrutura_sinasc_para_CD.pdf``` (o nome do arquivo tal qual no portal do DataSUS).\n",
        "\n",
        "### Nosso objetivo\n",
        "Queremos deixar uma base organizada para podermos estudar a relação entre partos com risco para o bebê e algumas condições como tempo de parto, consultas de pré-natal etc.\n",
        "\n",
        "#### Preparação da base\n",
        "1. Carregue a base 'SINASC_RO_2019.csv'. Conte o número de registros e o número de registros não duplicados da base. Dica: você aprendeu um método que remove duplicados, encadeie este método com um outro método que conta o número de linhas. **Há linhas duplicadas?**  \n",
        "\n",
        "2. Conte o número de valores *missing* por variável.  \n",
        "\n",
        "3. Ok, no item anterior você deve ter achado pouco prático ler a informação de tantas variáveis, muitas delas nem devem ser interesantes. Então crie uma seleção dessa base somente com as colunas que interessam. São elas:\n",
        "``` \n",
        "['LOCNASC', 'IDADEMAE', 'ESTCIVMAE', 'ESCMAE', 'QTDFILVIVO', \n",
        "    'GESTACAO', 'GRAVIDEZ', 'CONSULTAS', 'APGAR5'] \n",
        "```\n",
        "Refaça a contagem de valores *missings*.  \n",
        "\n",
        "4. Apgar é uma *nota* que o pediatra dá ao bebê quando nasce de acordo com algumas características associadas principalmente à respiração. Apgar 1 e Apgar 5 são as notas 1 e 5 minutos do nascimento. Apgar5 será a nossa variável de interesse principal. Então remova todos os registros com Apgar5 não preenchido. Para esta seleção, conte novamente o número de linhas e o número de *missings*.  \n",
        "\n",
        "5. observe que as variáveis ```['ESTCIVMAE', 'CONSULTAS']``` possuem o código ```9```, que significa *ignorado*. Vamos assumir que o não preenchido é o mesmo que o código ```9```.<br>\n",
        "6. Substitua os valores faltantes da quantitativa (```QTDFILVIVO```) por zero.  \n",
        "7. Das restantes, decida que valore te parece mais adequado (um 'não preenchido' ou um valor 'mais provável' como no item anterior) e preencha. Justifique. Lembre-se de que tratamento de dados é trabalho do cientista, e que estamos tomando decisões a todo o momento - não há necessariamente certo e errado aqui.  \n",
        "8. O Apgar possui uma classificação indicando se o bebê passou por asfixia:\n",
        "- Entre 8 e 10 está em uma faixa 'normal'. \n",
        "- Entre 6 e 7, significa que o recém-nascido passou por 'asfixia leve'. \n",
        "- Entre 4 e 5 significa 'asfixia moderada'.\n",
        "- Entre 0 e 3 significa 'asfixia severa'.  \n",
        "\n",
        "Crie uma categorização dessa variável com essa codificação e calcule as frequências dessa categorização.  \n",
        "<br>\n",
        "9. Renomeie as variáveis para que fiquem no *snake case*, ou seja, em letras minúsculas, com um *underscore* entre as palávras. Dica: repare que se você não quiser criar um *dataframe* novo, você vai precisar usar a opção ```inplace = True```."
      ]
    },
    {
      "cell_type": "code",
      "execution_count": 1,
      "metadata": {
        "id": "UjEnLlG-t_ZO",
        "outputId": "c808a637-7970-43bb-f957-528bb13233f1",
        "colab": {
          "base_uri": "https://localhost:8080/"
        }
      },
      "outputs": [
        {
          "output_type": "stream",
          "name": "stdout",
          "text": [
            "(6876, 69)\n"
          ]
        },
        {
          "output_type": "execute_result",
          "data": {
            "text/plain": [
              "(6876, 69)"
            ]
          },
          "metadata": {},
          "execution_count": 1
        }
      ],
      "source": [
        "import pandas as pd\n",
        "import requests\n",
        "\n",
        "# 1) seu código aqui\n",
        "sinasc = pd.read_csv('SINASC_RO_2019.csv')\n",
        "print(sinasc.shape)\n",
        "sinasc.drop_duplicates().shape\n",
        "# Não há duplicados"
      ]
    },
    {
      "cell_type": "code",
      "execution_count": 2,
      "metadata": {
        "id": "mSzLgyyJt_ZS",
        "outputId": "5f4fb6f4-17b4-4331-c64a-462e9123f45a",
        "colab": {
          "base_uri": "https://localhost:8080/"
        }
      },
      "outputs": [
        {
          "output_type": "execute_result",
          "data": {
            "text/plain": [
              "ORIGEM         0\n",
              "CODESTAB      24\n",
              "CODMUNNASC     0\n",
              "LOCNASC        0\n",
              "IDADEMAE       0\n",
              "              ..\n",
              "munResUf       1\n",
              "munResLat      2\n",
              "munResLon      2\n",
              "munResAlt      2\n",
              "munResArea     2\n",
              "Length: 69, dtype: int64"
            ]
          },
          "metadata": {},
          "execution_count": 2
        }
      ],
      "source": [
        "# 2) seu código aqui\n",
        "sinasc.isna().sum()"
      ]
    },
    {
      "cell_type": "code",
      "execution_count": 3,
      "metadata": {
        "id": "LVsrqCbRt_ZT",
        "outputId": "70714332-4544-46ff-ca85-f7a144d6e5e4",
        "colab": {
          "base_uri": "https://localhost:8080/"
        }
      },
      "outputs": [
        {
          "output_type": "execute_result",
          "data": {
            "text/plain": [
              "LOCNASC         0\n",
              "IDADEMAE        0\n",
              "ESTCIVMAE      83\n",
              "ESCMAE         51\n",
              "QTDFILVIVO    223\n",
              "GESTACAO      340\n",
              "GRAVIDEZ       15\n",
              "CONSULTAS       0\n",
              "APGAR5         18\n",
              "dtype: int64"
            ]
          },
          "metadata": {},
          "execution_count": 3
        }
      ],
      "source": [
        "# 3) seu código aqui\n",
        "colunas = ['LOCNASC', 'IDADEMAE', 'ESTCIVMAE', 'ESCMAE', 'QTDFILVIVO', 'GESTACAO', 'GRAVIDEZ', 'CONSULTAS', 'APGAR5']\n",
        "sinasc_interesse = sinasc[colunas]\n",
        "sinasc_interesse.isna().sum()"
      ]
    },
    {
      "cell_type": "code",
      "execution_count": 4,
      "metadata": {
        "id": "SmUpgfyVt_ZU"
      },
      "outputs": [],
      "source": [
        "# 4) seu código aqui\n",
        "sinasc_interesse = sinasc_interesse.dropna(subset=['APGAR5'])"
      ]
    },
    {
      "cell_type": "code",
      "execution_count": 5,
      "metadata": {
        "id": "W3SYcvfgt_ZV",
        "outputId": "bb8b53cd-618f-4388-a301-0a1e74515b2b",
        "colab": {
          "base_uri": "https://localhost:8080/"
        }
      },
      "outputs": [
        {
          "output_type": "stream",
          "name": "stdout",
          "text": [
            "O novo número de linhas da seleção é: 6858\n"
          ]
        }
      ],
      "source": [
        "print(f'O novo número de linhas da seleção é: {sinasc_interesse.shape[0]}')"
      ]
    },
    {
      "cell_type": "code",
      "execution_count": 6,
      "metadata": {
        "id": "rX3ylpRYt_ZV",
        "outputId": "cb3240ff-bd1c-4478-ddd2-3ba3124b4bb1",
        "colab": {
          "base_uri": "https://localhost:8080/"
        }
      },
      "outputs": [
        {
          "output_type": "stream",
          "name": "stdout",
          "text": [
            "As novas quantidades de missings na seleção são:\n"
          ]
        },
        {
          "output_type": "execute_result",
          "data": {
            "text/plain": [
              "LOCNASC         0\n",
              "IDADEMAE        0\n",
              "ESTCIVMAE      81\n",
              "ESCMAE         51\n",
              "QTDFILVIVO    223\n",
              "GESTACAO      339\n",
              "GRAVIDEZ       15\n",
              "CONSULTAS       0\n",
              "APGAR5          0\n",
              "dtype: int64"
            ]
          },
          "metadata": {},
          "execution_count": 6
        }
      ],
      "source": [
        "print(\"As novas quantidades de missings na seleção são:\")\n",
        "sinasc_interesse.isna().sum()"
      ]
    },
    {
      "cell_type": "code",
      "execution_count": 7,
      "metadata": {
        "id": "r-44_ZVlt_ZW"
      },
      "outputs": [],
      "source": [
        "# 5) seu código aqui\n",
        "# Preenchendo os dados faltantes com o número 9\n",
        "sinasc_interesse['ESTCIVMAE'].fillna(9, inplace=True)"
      ]
    },
    {
      "cell_type": "code",
      "execution_count": 8,
      "metadata": {
        "id": "_wqigk5xt_ZX"
      },
      "outputs": [],
      "source": [
        "sinasc_interesse['CONSULTAS'].fillna(9, inplace=True)"
      ]
    },
    {
      "cell_type": "code",
      "execution_count": 9,
      "metadata": {
        "id": "efe9uRbTt_ZX",
        "outputId": "8afa68c5-a9c0-4614-9a48-cf4a8c15eeda",
        "colab": {
          "base_uri": "https://localhost:8080/"
        }
      },
      "outputs": [
        {
          "output_type": "execute_result",
          "data": {
            "text/plain": [
              "LOCNASC         0\n",
              "IDADEMAE        0\n",
              "ESTCIVMAE       0\n",
              "ESCMAE         51\n",
              "QTDFILVIVO    223\n",
              "GESTACAO      339\n",
              "GRAVIDEZ       15\n",
              "CONSULTAS       0\n",
              "APGAR5          0\n",
              "dtype: int64"
            ]
          },
          "metadata": {},
          "execution_count": 9
        }
      ],
      "source": [
        "sinasc_interesse.isna().sum()"
      ]
    },
    {
      "cell_type": "code",
      "execution_count": 10,
      "metadata": {
        "id": "KITJuERft_ZZ"
      },
      "outputs": [],
      "source": [
        "# 6) Seu código aqui\n",
        "sinasc_interesse['QTDFILVIVO'].fillna(0, inplace=True)"
      ]
    },
    {
      "cell_type": "code",
      "execution_count": 11,
      "metadata": {
        "id": "sv0JEf-ft_ZZ",
        "outputId": "f0603c66-c0f9-404b-d9d5-2d116c79ee80",
        "colab": {
          "base_uri": "https://localhost:8080/"
        }
      },
      "outputs": [
        {
          "output_type": "execute_result",
          "data": {
            "text/plain": [
              "LOCNASC         0\n",
              "IDADEMAE        0\n",
              "ESTCIVMAE       0\n",
              "ESCMAE         51\n",
              "QTDFILVIVO      0\n",
              "GESTACAO      339\n",
              "GRAVIDEZ       15\n",
              "CONSULTAS       0\n",
              "APGAR5          0\n",
              "dtype: int64"
            ]
          },
          "metadata": {},
          "execution_count": 11
        }
      ],
      "source": [
        "sinasc_interesse.isna().sum()"
      ]
    },
    {
      "cell_type": "code",
      "execution_count": 12,
      "metadata": {
        "id": "Txy62HxAt_Za"
      },
      "outputs": [],
      "source": [
        "# 7) seu código aqui\n",
        "# Fazendo as linhas vazias obedecerem ao código do dicionário.\n",
        "sinasc_interesse['ESCMAE'].fillna(9, inplace=True)"
      ]
    },
    {
      "cell_type": "code",
      "execution_count": 13,
      "metadata": {
        "id": "OG0wYKAut_Zb"
      },
      "outputs": [],
      "source": [
        "sinasc_interesse['GESTACAO'].fillna(9, inplace=True)"
      ]
    },
    {
      "cell_type": "code",
      "execution_count": 14,
      "metadata": {
        "id": "uh8gzJKFt_Zb"
      },
      "outputs": [],
      "source": [
        "sinasc_interesse['GRAVIDEZ'].fillna(9, inplace=True)"
      ]
    },
    {
      "cell_type": "code",
      "execution_count": 15,
      "metadata": {
        "id": "kNrLBK6Bt_Zb",
        "outputId": "4ca1c44c-3bc6-486a-cd5f-d105ddc1fa59",
        "colab": {
          "base_uri": "https://localhost:8080/"
        }
      },
      "outputs": [
        {
          "output_type": "execute_result",
          "data": {
            "text/plain": [
              "LOCNASC       0\n",
              "IDADEMAE      0\n",
              "ESTCIVMAE     0\n",
              "ESCMAE        0\n",
              "QTDFILVIVO    0\n",
              "GESTACAO      0\n",
              "GRAVIDEZ      0\n",
              "CONSULTAS     0\n",
              "APGAR5        0\n",
              "dtype: int64"
            ]
          },
          "metadata": {},
          "execution_count": 15
        }
      ],
      "source": [
        "sinasc_interesse.isna().sum()"
      ]
    },
    {
      "cell_type": "code",
      "execution_count": 16,
      "metadata": {
        "id": "jzK7OBnVt_Zc"
      },
      "outputs": [],
      "source": [
        "# 8) seu código aqui\n",
        "sinasc_interesse.loc[sinasc_interesse['APGAR5'] >= 8, 'situacao_bebe'] = 'normal'\n",
        "sinasc_interesse.loc[(sinasc_interesse['APGAR5'] < 8) & (sinasc_interesse['APGAR5'] >= 6),\n",
        "                     'situacao_bebe'] = 'asfixia leve'\n",
        "sinasc_interesse.loc[(sinasc_interesse['APGAR5'] < 6) & (sinasc_interesse['APGAR5'] >= 4),\n",
        "                     'situacao_bebe'] = 'asfixia moderada'\n",
        "sinasc_interesse.loc[(sinasc_interesse['APGAR5'] <= 3), 'situacao_bebe'] = 'asfixia severa'"
      ]
    },
    {
      "cell_type": "code",
      "execution_count": 17,
      "metadata": {
        "id": "OYXTmRebt_Zd",
        "outputId": "ce6e41c0-e548-469f-efc5-522ac3ba7334",
        "colab": {
          "base_uri": "https://localhost:8080/"
        }
      },
      "outputs": [
        {
          "output_type": "execute_result",
          "data": {
            "text/plain": [
              "normal              6727\n",
              "asfixia leve          86\n",
              "asfixia severa        26\n",
              "asfixia moderada      19\n",
              "Name: situacao_bebe, dtype: int64"
            ]
          },
          "metadata": {},
          "execution_count": 17
        }
      ],
      "source": [
        "sinasc_interesse['situacao_bebe'].value_counts()"
      ]
    },
    {
      "cell_type": "code",
      "execution_count": 18,
      "metadata": {
        "id": "WcQB1Fb_t_Zd"
      },
      "outputs": [],
      "source": [
        "# 9) seu código aqui\n",
        "sinasc_interesse.rename(columns = {'LOCNASC': 'local_nascimento', 'IDADEMAE': 'idade_mae',\n",
        "                        'ESTCIVMAE': 'estado_civil_mae', 'ESCMAE': 'escolaridade_mae',\n",
        "                        'QTDFILVIVO': 'quantidade_filhos_vivos', 'GESTACAO': 'gestacao',\n",
        "                        'GRAVIDEZ': 'gravidez', 'CONSULTAS': 'consultas', \n",
        "                        'APGAR5': 'apgar_5'}, inplace=True)"
      ]
    },
    {
      "cell_type": "code",
      "execution_count": 19,
      "metadata": {
        "id": "0bdDZJNzt_Ze",
        "outputId": "80e34727-3891-4024-caa1-f6c32e487e0c",
        "colab": {
          "base_uri": "https://localhost:8080/",
          "height": 661
        }
      },
      "outputs": [
        {
          "output_type": "execute_result",
          "data": {
            "text/plain": [
              "      local_nascimento  idade_mae  estado_civil_mae escolaridade_mae  \\\n",
              "0                    1         19               5.0      8 a 11 anos   \n",
              "1                    1         29               2.0      8 a 11 anos   \n",
              "2                    1         37               9.0      8 a 11 anos   \n",
              "3                    1         30               5.0  12 anos ou mais   \n",
              "4                    1         30               2.0      8 a 11 anos   \n",
              "...                ...        ...               ...              ...   \n",
              "6871                 1         23               1.0      8 a 11 anos   \n",
              "6872                 1         27               1.0      8 a 11 anos   \n",
              "6873                 1         21               1.0      8 a 11 anos   \n",
              "6874                 1         27               2.0       4 a 7 anos   \n",
              "6875                 1         31               1.0       4 a 7 anos   \n",
              "\n",
              "      quantidade_filhos_vivos         gestacao gravidez  consultas  apgar_5  \\\n",
              "0                         0.0  37 a 41 semanas    Única          4     10.0   \n",
              "1                         1.0  37 a 41 semanas    Única          4      9.0   \n",
              "2                         2.0  37 a 41 semanas    Única          4     10.0   \n",
              "3                         0.0  37 a 41 semanas    Única          3     10.0   \n",
              "4                         1.0  37 a 41 semanas    Única          4     10.0   \n",
              "...                       ...              ...      ...        ...      ...   \n",
              "6871                      0.0  37 a 41 semanas    Única          3      9.0   \n",
              "6872                      0.0  37 a 41 semanas    Única          4      8.0   \n",
              "6873                      2.0  37 a 41 semanas    Única          2     10.0   \n",
              "6874                      2.0  37 a 41 semanas    Única          4     10.0   \n",
              "6875                      3.0  37 a 41 semanas    Única          4     10.0   \n",
              "\n",
              "     situacao_bebe  \n",
              "0           normal  \n",
              "1           normal  \n",
              "2           normal  \n",
              "3           normal  \n",
              "4           normal  \n",
              "...            ...  \n",
              "6871        normal  \n",
              "6872        normal  \n",
              "6873        normal  \n",
              "6874        normal  \n",
              "6875        normal  \n",
              "\n",
              "[6858 rows x 10 columns]"
            ],
            "text/html": [
              "\n",
              "  <div id=\"df-9265c8b6-7d4d-479b-a82b-18613b2d0ee2\">\n",
              "    <div class=\"colab-df-container\">\n",
              "      <div>\n",
              "<style scoped>\n",
              "    .dataframe tbody tr th:only-of-type {\n",
              "        vertical-align: middle;\n",
              "    }\n",
              "\n",
              "    .dataframe tbody tr th {\n",
              "        vertical-align: top;\n",
              "    }\n",
              "\n",
              "    .dataframe thead th {\n",
              "        text-align: right;\n",
              "    }\n",
              "</style>\n",
              "<table border=\"1\" class=\"dataframe\">\n",
              "  <thead>\n",
              "    <tr style=\"text-align: right;\">\n",
              "      <th></th>\n",
              "      <th>local_nascimento</th>\n",
              "      <th>idade_mae</th>\n",
              "      <th>estado_civil_mae</th>\n",
              "      <th>escolaridade_mae</th>\n",
              "      <th>quantidade_filhos_vivos</th>\n",
              "      <th>gestacao</th>\n",
              "      <th>gravidez</th>\n",
              "      <th>consultas</th>\n",
              "      <th>apgar_5</th>\n",
              "      <th>situacao_bebe</th>\n",
              "    </tr>\n",
              "  </thead>\n",
              "  <tbody>\n",
              "    <tr>\n",
              "      <th>0</th>\n",
              "      <td>1</td>\n",
              "      <td>19</td>\n",
              "      <td>5.0</td>\n",
              "      <td>8 a 11 anos</td>\n",
              "      <td>0.0</td>\n",
              "      <td>37 a 41 semanas</td>\n",
              "      <td>Única</td>\n",
              "      <td>4</td>\n",
              "      <td>10.0</td>\n",
              "      <td>normal</td>\n",
              "    </tr>\n",
              "    <tr>\n",
              "      <th>1</th>\n",
              "      <td>1</td>\n",
              "      <td>29</td>\n",
              "      <td>2.0</td>\n",
              "      <td>8 a 11 anos</td>\n",
              "      <td>1.0</td>\n",
              "      <td>37 a 41 semanas</td>\n",
              "      <td>Única</td>\n",
              "      <td>4</td>\n",
              "      <td>9.0</td>\n",
              "      <td>normal</td>\n",
              "    </tr>\n",
              "    <tr>\n",
              "      <th>2</th>\n",
              "      <td>1</td>\n",
              "      <td>37</td>\n",
              "      <td>9.0</td>\n",
              "      <td>8 a 11 anos</td>\n",
              "      <td>2.0</td>\n",
              "      <td>37 a 41 semanas</td>\n",
              "      <td>Única</td>\n",
              "      <td>4</td>\n",
              "      <td>10.0</td>\n",
              "      <td>normal</td>\n",
              "    </tr>\n",
              "    <tr>\n",
              "      <th>3</th>\n",
              "      <td>1</td>\n",
              "      <td>30</td>\n",
              "      <td>5.0</td>\n",
              "      <td>12 anos ou mais</td>\n",
              "      <td>0.0</td>\n",
              "      <td>37 a 41 semanas</td>\n",
              "      <td>Única</td>\n",
              "      <td>3</td>\n",
              "      <td>10.0</td>\n",
              "      <td>normal</td>\n",
              "    </tr>\n",
              "    <tr>\n",
              "      <th>4</th>\n",
              "      <td>1</td>\n",
              "      <td>30</td>\n",
              "      <td>2.0</td>\n",
              "      <td>8 a 11 anos</td>\n",
              "      <td>1.0</td>\n",
              "      <td>37 a 41 semanas</td>\n",
              "      <td>Única</td>\n",
              "      <td>4</td>\n",
              "      <td>10.0</td>\n",
              "      <td>normal</td>\n",
              "    </tr>\n",
              "    <tr>\n",
              "      <th>...</th>\n",
              "      <td>...</td>\n",
              "      <td>...</td>\n",
              "      <td>...</td>\n",
              "      <td>...</td>\n",
              "      <td>...</td>\n",
              "      <td>...</td>\n",
              "      <td>...</td>\n",
              "      <td>...</td>\n",
              "      <td>...</td>\n",
              "      <td>...</td>\n",
              "    </tr>\n",
              "    <tr>\n",
              "      <th>6871</th>\n",
              "      <td>1</td>\n",
              "      <td>23</td>\n",
              "      <td>1.0</td>\n",
              "      <td>8 a 11 anos</td>\n",
              "      <td>0.0</td>\n",
              "      <td>37 a 41 semanas</td>\n",
              "      <td>Única</td>\n",
              "      <td>3</td>\n",
              "      <td>9.0</td>\n",
              "      <td>normal</td>\n",
              "    </tr>\n",
              "    <tr>\n",
              "      <th>6872</th>\n",
              "      <td>1</td>\n",
              "      <td>27</td>\n",
              "      <td>1.0</td>\n",
              "      <td>8 a 11 anos</td>\n",
              "      <td>0.0</td>\n",
              "      <td>37 a 41 semanas</td>\n",
              "      <td>Única</td>\n",
              "      <td>4</td>\n",
              "      <td>8.0</td>\n",
              "      <td>normal</td>\n",
              "    </tr>\n",
              "    <tr>\n",
              "      <th>6873</th>\n",
              "      <td>1</td>\n",
              "      <td>21</td>\n",
              "      <td>1.0</td>\n",
              "      <td>8 a 11 anos</td>\n",
              "      <td>2.0</td>\n",
              "      <td>37 a 41 semanas</td>\n",
              "      <td>Única</td>\n",
              "      <td>2</td>\n",
              "      <td>10.0</td>\n",
              "      <td>normal</td>\n",
              "    </tr>\n",
              "    <tr>\n",
              "      <th>6874</th>\n",
              "      <td>1</td>\n",
              "      <td>27</td>\n",
              "      <td>2.0</td>\n",
              "      <td>4 a 7 anos</td>\n",
              "      <td>2.0</td>\n",
              "      <td>37 a 41 semanas</td>\n",
              "      <td>Única</td>\n",
              "      <td>4</td>\n",
              "      <td>10.0</td>\n",
              "      <td>normal</td>\n",
              "    </tr>\n",
              "    <tr>\n",
              "      <th>6875</th>\n",
              "      <td>1</td>\n",
              "      <td>31</td>\n",
              "      <td>1.0</td>\n",
              "      <td>4 a 7 anos</td>\n",
              "      <td>3.0</td>\n",
              "      <td>37 a 41 semanas</td>\n",
              "      <td>Única</td>\n",
              "      <td>4</td>\n",
              "      <td>10.0</td>\n",
              "      <td>normal</td>\n",
              "    </tr>\n",
              "  </tbody>\n",
              "</table>\n",
              "<p>6858 rows × 10 columns</p>\n",
              "</div>\n",
              "      <button class=\"colab-df-convert\" onclick=\"convertToInteractive('df-9265c8b6-7d4d-479b-a82b-18613b2d0ee2')\"\n",
              "              title=\"Convert this dataframe to an interactive table.\"\n",
              "              style=\"display:none;\">\n",
              "        \n",
              "  <svg xmlns=\"http://www.w3.org/2000/svg\" height=\"24px\"viewBox=\"0 0 24 24\"\n",
              "       width=\"24px\">\n",
              "    <path d=\"M0 0h24v24H0V0z\" fill=\"none\"/>\n",
              "    <path d=\"M18.56 5.44l.94 2.06.94-2.06 2.06-.94-2.06-.94-.94-2.06-.94 2.06-2.06.94zm-11 1L8.5 8.5l.94-2.06 2.06-.94-2.06-.94L8.5 2.5l-.94 2.06-2.06.94zm10 10l.94 2.06.94-2.06 2.06-.94-2.06-.94-.94-2.06-.94 2.06-2.06.94z\"/><path d=\"M17.41 7.96l-1.37-1.37c-.4-.4-.92-.59-1.43-.59-.52 0-1.04.2-1.43.59L10.3 9.45l-7.72 7.72c-.78.78-.78 2.05 0 2.83L4 21.41c.39.39.9.59 1.41.59.51 0 1.02-.2 1.41-.59l7.78-7.78 2.81-2.81c.8-.78.8-2.07 0-2.86zM5.41 20L4 18.59l7.72-7.72 1.47 1.35L5.41 20z\"/>\n",
              "  </svg>\n",
              "      </button>\n",
              "      \n",
              "  <style>\n",
              "    .colab-df-container {\n",
              "      display:flex;\n",
              "      flex-wrap:wrap;\n",
              "      gap: 12px;\n",
              "    }\n",
              "\n",
              "    .colab-df-convert {\n",
              "      background-color: #E8F0FE;\n",
              "      border: none;\n",
              "      border-radius: 50%;\n",
              "      cursor: pointer;\n",
              "      display: none;\n",
              "      fill: #1967D2;\n",
              "      height: 32px;\n",
              "      padding: 0 0 0 0;\n",
              "      width: 32px;\n",
              "    }\n",
              "\n",
              "    .colab-df-convert:hover {\n",
              "      background-color: #E2EBFA;\n",
              "      box-shadow: 0px 1px 2px rgba(60, 64, 67, 0.3), 0px 1px 3px 1px rgba(60, 64, 67, 0.15);\n",
              "      fill: #174EA6;\n",
              "    }\n",
              "\n",
              "    [theme=dark] .colab-df-convert {\n",
              "      background-color: #3B4455;\n",
              "      fill: #D2E3FC;\n",
              "    }\n",
              "\n",
              "    [theme=dark] .colab-df-convert:hover {\n",
              "      background-color: #434B5C;\n",
              "      box-shadow: 0px 1px 3px 1px rgba(0, 0, 0, 0.15);\n",
              "      filter: drop-shadow(0px 1px 2px rgba(0, 0, 0, 0.3));\n",
              "      fill: #FFFFFF;\n",
              "    }\n",
              "  </style>\n",
              "\n",
              "      <script>\n",
              "        const buttonEl =\n",
              "          document.querySelector('#df-9265c8b6-7d4d-479b-a82b-18613b2d0ee2 button.colab-df-convert');\n",
              "        buttonEl.style.display =\n",
              "          google.colab.kernel.accessAllowed ? 'block' : 'none';\n",
              "\n",
              "        async function convertToInteractive(key) {\n",
              "          const element = document.querySelector('#df-9265c8b6-7d4d-479b-a82b-18613b2d0ee2');\n",
              "          const dataTable =\n",
              "            await google.colab.kernel.invokeFunction('convertToInteractive',\n",
              "                                                     [key], {});\n",
              "          if (!dataTable) return;\n",
              "\n",
              "          const docLinkHtml = 'Like what you see? Visit the ' +\n",
              "            '<a target=\"_blank\" href=https://colab.research.google.com/notebooks/data_table.ipynb>data table notebook</a>'\n",
              "            + ' to learn more about interactive tables.';\n",
              "          element.innerHTML = '';\n",
              "          dataTable['output_type'] = 'display_data';\n",
              "          await google.colab.output.renderOutput(dataTable, element);\n",
              "          const docLink = document.createElement('div');\n",
              "          docLink.innerHTML = docLinkHtml;\n",
              "          element.appendChild(docLink);\n",
              "        }\n",
              "      </script>\n",
              "    </div>\n",
              "  </div>\n",
              "  "
            ]
          },
          "metadata": {},
          "execution_count": 19
        }
      ],
      "source": [
        "sinasc_interesse"
      ]
    }
  ],
  "metadata": {
    "kernelspec": {
      "display_name": "Python 3 (ipykernel)",
      "language": "python",
      "name": "python3"
    },
    "language_info": {
      "codemirror_mode": {
        "name": "ipython",
        "version": 3
      },
      "file_extension": ".py",
      "mimetype": "text/x-python",
      "name": "python",
      "nbconvert_exporter": "python",
      "pygments_lexer": "ipython3",
      "version": "3.7.13"
    },
    "colab": {
      "provenance": []
    }
  },
  "nbformat": 4,
  "nbformat_minor": 0
}