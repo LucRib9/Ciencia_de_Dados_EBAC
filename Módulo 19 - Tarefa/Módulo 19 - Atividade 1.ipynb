{
 "cells": [
  {
   "cell_type": "markdown",
   "id": "15fa231b",
   "metadata": {},
   "source": [
    "## Curso Ciência de Dados - EBAC"
   ]
  },
  {
   "cell_type": "markdown",
   "id": "94597d11",
   "metadata": {},
   "source": [
    "### Módulo 19: Streamlit II - Atividade 1"
   ]
  },
  {
   "cell_type": "markdown",
   "id": "c1ae54c8",
   "metadata": {},
   "source": [
    "O código desta tarefa foi escrito no formato py. Ele pode ser visualizado nas células abaixo. O mesmo encontra-se na mesma pasta do github na qual localiza-se este notebook."
   ]
  },
  {
   "cell_type": "markdown",
   "id": "1db38822",
   "metadata": {},
   "source": [
    "#### Pacotes utilizados:\n",
    "Os pacotes utilizados neste código foram:\n",
    "- pandas, para a leitura de dados;\n",
    "- matplotlib.pyplot, para a produção de gráficos;\n",
    "- seaborn, para fazer gráficos de barras; \n",
    "- streamlit, para produzir a página com a análise dos dados;\n",
    "- Função Image do pacote PIL, para a inserção de imagem na barra lateral da página."
   ]
  },
  {
   "cell_type": "markdown",
   "id": "6a47290a",
   "metadata": {},
   "source": [
    "#### O código:"
   ]
  },
  {
   "cell_type": "code",
   "execution_count": 2,
   "id": "13d1b1d3",
   "metadata": {},
   "outputs": [
    {
     "ename": "ModuleNotFoundError",
     "evalue": "No module named 'streamlit'",
     "output_type": "error",
     "traceback": [
      "\u001b[1;31m---------------------------------------------------------------------------\u001b[0m",
      "\u001b[1;31mModuleNotFoundError\u001b[0m                       Traceback (most recent call last)",
      "\u001b[1;32m~\\AppData\\Local\\Temp\\ipykernel_10388\\2859818533.py\u001b[0m in \u001b[0;36m<module>\u001b[1;34m\u001b[0m\n\u001b[0;32m      6\u001b[0m \u001b[1;32mimport\u001b[0m \u001b[0mmatplotlib\u001b[0m\u001b[1;33m.\u001b[0m\u001b[0mpyplot\u001b[0m \u001b[1;32mas\u001b[0m \u001b[0mplt\u001b[0m\u001b[1;33m\u001b[0m\u001b[1;33m\u001b[0m\u001b[0m\n\u001b[0;32m      7\u001b[0m \u001b[1;32mimport\u001b[0m \u001b[0mseaborn\u001b[0m \u001b[1;32mas\u001b[0m \u001b[0msns\u001b[0m\u001b[1;33m\u001b[0m\u001b[1;33m\u001b[0m\u001b[0m\n\u001b[1;32m----> 8\u001b[1;33m \u001b[1;32mimport\u001b[0m \u001b[0mstreamlit\u001b[0m \u001b[1;32mas\u001b[0m \u001b[0mst\u001b[0m\u001b[1;33m\u001b[0m\u001b[1;33m\u001b[0m\u001b[0m\n\u001b[0m\u001b[0;32m      9\u001b[0m \u001b[1;32mfrom\u001b[0m \u001b[0mPIL\u001b[0m \u001b[1;32mimport\u001b[0m \u001b[0mImage\u001b[0m\u001b[1;33m\u001b[0m\u001b[1;33m\u001b[0m\u001b[0m\n\u001b[0;32m     10\u001b[0m \u001b[1;33m\u001b[0m\u001b[0m\n",
      "\u001b[1;31mModuleNotFoundError\u001b[0m: No module named 'streamlit'"
     ]
    }
   ],
   "source": [
    "# Curso de Ciência de Dados - EBAC\n",
    "# Módulo 19: Streamlit II - Atividade 1\n",
    "\n",
    "# Pacotes necessários para esta atividade:\n",
    "import pandas as pd\n",
    "import matplotlib.pyplot as plt \n",
    "import seaborn as sns\n",
    "import streamlit as st\n",
    "from PIL import Image\n",
    "\n",
    "# Função para seleção de ítens da coluna de uma tabela\n",
    "def selecao_filtros(tabela, coluna, selecionados):\n",
    "    '''\n",
    "    Recebe uma tabela, uma coluna específica da tabela e \n",
    "    uma lista 'selecionados' com os ítens escolhidos da \n",
    "    coluna. \n",
    "    Caso o ítem 'Todos' esteja na lista 'selecionados', é \n",
    "    devolvida toda a tabela original. Caso contrário, são \n",
    "    devolvidos os ítens escolhidos e estes são removidos \n",
    "    da tabela.\n",
    "    '''\n",
    "    if 'Todos' in selecionados:\n",
    "        return tabela\n",
    "    else:\n",
    "        return tabela[tabela[coluna].isin(selecionados)].reset_index(drop=True)\n",
    "\n",
    "# Configurações para os gráficos do seaborn, removendo os traços superior\n",
    "# e lateral direto de cada gráfico\n",
    "parametros = {\"axes.spines.right\": False, \"axes.spines.top\": False}\n",
    "sns.set_theme(style=\"ticks\", rc=parametros)\n",
    "\n",
    "# Função principal, onde estão as configurações do site,\n",
    "# sendo ativada assim que o código é rodado\n",
    "def main():\n",
    "    \n",
    "    #Configurações da página (ícones, título da guia, layout e barra lateral)\n",
    "    st.set_page_config(page_title = 'Análise de Telemarketing',\n",
    "                       page_icon = './imagens/icone_telemarketing.png',\n",
    "                       layout=\"centered\",\n",
    "                       initial_sidebar_state='expanded')\n",
    "    \n",
    "    # Cabeçalho da atividade\n",
    "    st.write('# Ciência de Dados - EBAC')\n",
    "    st.write('# Módulo 19 - Streamlit II - Tarefa 1')\n",
    "    st.write(\"---\")\n",
    "\n",
    "    # Título da página \n",
    "    st.write('# Análise de Telemarketing')\n",
    "    st.write(\"---\")\n",
    "    \n",
    "    # Imagem para a barra lateral da página \n",
    "    imagem_lateral = Image.open('./imagens/bank-thematic-interior.jpg')\n",
    "    st.sidebar.image(imagem_lateral)\n",
    "\n",
    "    # Leitura dos dados da tabela 'bank'\n",
    "    bank_original = pd.read_csv('./dados/input/bank-additional-full.csv', sep=';')\n",
    "\n",
    "    # Cópia da tabela 'bank' para seleção de filtros\n",
    "    bank = bank_original.copy()\n",
    "\n",
    "    # Mostra as 5 primeiras linhas da tabela 'bank_original'\n",
    "    st.write('## Dados originais')\n",
    "    st.write(bank_original.head())\n",
    "\n",
    "    # Seleção dos filtros de cada coluna da tabela 'bank' pela barra lateral\n",
    "    with st.sidebar.form(key='my_form'):\n",
    "\n",
    "        # Slider com os filtros de idade\n",
    "        idade_max = int(bank.age.max())\n",
    "        idade_min = int(bank.age.min())\n",
    "        idades = st.slider(label='Intervalo de idades',\n",
    "                           min_value=idade_min,\n",
    "                           max_value=idade_max,\n",
    "                           value=(idade_min, idade_max),\n",
    "                           step=1)\n",
    "        \n",
    "        # Filtro seleção de profissões\n",
    "        lista_profisoes = bank.job.unique().tolist()\n",
    "        lista_profisoes.append('Todos')\n",
    "        profisoes_escolhidas =  st.multiselect(\"Profissão\", lista_profisoes, ['Todos'])\n",
    "\n",
    "        # Filtro seleção de estado civil\n",
    "        lista_matrimonio = bank.marital.unique().tolist()\n",
    "        lista_matrimonio.append('Todos')\n",
    "        matrimonio_escolhido =  st.multiselect(\"Estado civil\", lista_matrimonio, ['Todos'])\n",
    "\n",
    "        # Filtro seleção Default\n",
    "        lista_default = bank.default.unique().tolist()\n",
    "        lista_default.append('Todos')\n",
    "        default_escolhido =  st.multiselect(\"Default\", lista_default, ['Todos'])\n",
    "\n",
    "        \n",
    "        # Filtro seleção Financiamento Imobiliário\n",
    "        lista_financiamento = bank.housing.unique().tolist()\n",
    "        lista_financiamento.append('Todos')\n",
    "        financiamento_escolhido =  st.multiselect(\"Tem financiamento imobiliário?\", lista_financiamento, ['Todos'])\n",
    "\n",
    "        \n",
    "        # Filtro seleção Empréstimo?\n",
    "        lista_emprestimo = bank.loan.unique().tolist()\n",
    "        lista_emprestimo.append('Todos')\n",
    "        emprestimo_escolhido =  st.multiselect(\"Tem empréstimo?\", lista_emprestimo, ['Todos'])\n",
    "\n",
    "        \n",
    "        # Filtro seleção Meio De Contato?\n",
    "        lista_contato = bank.contact.unique().tolist()\n",
    "        lista_contato.append('Todos')\n",
    "        contato_escolhido =  st.multiselect(\"Meio de contato\", lista_contato, ['Todos'])\n",
    "\n",
    "        \n",
    "        # Filtro seleção Mês Do Contato\n",
    "        lista_mes = bank.month.unique().tolist()\n",
    "        lista_mes.append('Todos')\n",
    "        mes_escolhido =  st.multiselect(\"Mês do contato\", lista_mes, ['Todos'])\n",
    "\n",
    "        \n",
    "        # Filtro seleção Dia Da Semana\n",
    "        lista_dia_semana = bank.day_of_week.unique().tolist()\n",
    "        lista_dia_semana.append('Todos')\n",
    "        dia_semana_escolhido =  st.multiselect(\"Dia da semana\", lista_dia_semana, ['Todos'])\n",
    "\n",
    "\n",
    "        # Seleção das linhas na tabela 'bank' de acordo com os filtros selecionados\n",
    "        bank = (bank.query(\"age >= @idades[0] and age <= @idades[1]\")\n",
    "                    .pipe(selecao_filtros, 'job', profisoes_escolhidas)\n",
    "                    .pipe(selecao_filtros, 'marital', matrimonio_escolhido)\n",
    "                    .pipe(selecao_filtros, 'default', default_escolhido)\n",
    "                    .pipe(selecao_filtros, 'housing', financiamento_escolhido)\n",
    "                    .pipe(selecao_filtros, 'loan', emprestimo_escolhido)\n",
    "                    .pipe(selecao_filtros, 'contact', contato_escolhido)\n",
    "                    .pipe(selecao_filtros, 'month', mes_escolhido)\n",
    "                    .pipe(selecao_filtros, 'day_of_week', dia_semana_escolhido)\n",
    "        )\n",
    "\n",
    "        # Botão para mostrar a tabela resultante na página\n",
    "        botao_aplicar = st.form_submit_button(label='Aplicar')\n",
    "    \n",
    "    # Mostra as 5 primeiras da tabela de acordo com os filtros\n",
    "    st.write('## Dados Filtrados')\n",
    "    st.write(bank.head())\n",
    "    st.write('---')\n",
    "\n",
    "    # Gráficos\n",
    "    # Nesta seção encontam-se os comandos para a criação de dois gráficos\n",
    "    # No primeiro, está a proporção de aceitação e recusa na tabela original\n",
    "    # No segundo, a proporção é de acordo com a filtragem.\n",
    "\n",
    "    # Cria uma figura onde são inseridos os dois gráficos     \n",
    "    fig, ax = plt.subplots(1, 2, figsize = (5,3))\n",
    "\n",
    "    # Toma a porcentagem de aceitação e recusa nos dados originais\n",
    "    percentual_bank_original = bank_original.y.value_counts(normalize = True).to_frame()*100\n",
    "\n",
    "    # Separa a contagem de aceitação e recusa dos dados originais\n",
    "    percentual_bank_original = percentual_bank_original.sort_index()\n",
    "\n",
    "    # Faz o gráfico de barras das proporções dos dados originais\n",
    "    sns.barplot(x = percentual_bank_original.index, \n",
    "                y = 'y',\n",
    "                data = percentual_bank_original, \n",
    "                ax = ax[0])\n",
    "    ax[0].bar_label(ax[0].containers[0])\n",
    "    ax[0].set_title('Dados brutos',\n",
    "                    fontweight =\"bold\")\n",
    "    \n",
    "\n",
    "    # Tenta criar o gráfico com os dados filtrados, retornando uma mensagem de erro caso\n",
    "    # a seleção esteja fora do banco de dados\n",
    "    try:\n",
    "\n",
    "        # Toma a porcentagem de aceitação e recusa nos dados filtrados\n",
    "        percentual_bank_filtrado = bank.y.value_counts(normalize = True).to_frame()*100\n",
    "\n",
    "        # Separa a contagem de aceitação e recusa dos dados filtrados\n",
    "        percentual_bank_filtrado = percentual_bank_filtrado.sort_index()\n",
    "\n",
    "        # Faz o gráfico de barras das proporções dos dados filtrados\n",
    "        sns.barplot(x = percentual_bank_filtrado.index, \n",
    "                    y = 'y', \n",
    "                    data = percentual_bank_filtrado, \n",
    "                    ax = ax[1])\n",
    "        ax[1].bar_label(ax[1].containers[0])\n",
    "        ax[1].set_title('Dados filtrados',\n",
    "                        fontweight =\"bold\")\n",
    "    except:\n",
    "        st.error('Erro no filtro')\n",
    "    \n",
    "    # Título dos gráficos\n",
    "    st.write('## Proporção de aceite')\n",
    "\n",
    "    # Mostra os gráficos\n",
    "    st.pyplot(plt)\n",
    "\n",
    "if __name__ == '__main__':\n",
    "    main()"
   ]
  },
  {
   "cell_type": "markdown",
   "id": "91058e3d",
   "metadata": {},
   "source": [
    "#### Resultado:\n",
    "A página desenvolvida pode ser visualizada pelo vídeo abaixo."
   ]
  },
  {
   "cell_type": "code",
   "execution_count": 5,
   "id": "edc0b6af",
   "metadata": {},
   "outputs": [
    {
     "data": {
      "text/html": [
       "<div align=\"middle\">\n",
       "<video width=\"80%\" controls>\n",
       "      <source src=\".\\Vídeos\\exercicio1.mp4\" type=\"video/mp4\">\n",
       "</video></div>\n"
      ],
      "text/plain": [
       "<IPython.core.display.HTML object>"
      ]
     },
     "metadata": {},
     "output_type": "display_data"
    }
   ],
   "source": [
    "%%HTML\n",
    "<div align=\"middle\">\n",
    "<video width=\"80%\" controls>\n",
    "      <source src=\".\\Vídeos\\exercicio1.mp4\" type=\"video/mp4\">\n",
    "</video></div>"
   ]
  },
  {
   "cell_type": "code",
   "execution_count": 6,
   "id": "a14eccb1",
   "metadata": {},
   "outputs": [
    {
     "data": {
      "text/html": [
       "\n",
       "<div align=\"middle\">\n",
       "<video width=\"80%\" controls>\n",
       "      <source src=\".\\Vídeos\\exercicio1.mp4\" type=\"video/mp4\">\n",
       "</video></div>"
      ],
      "text/plain": [
       "<IPython.core.display.HTML object>"
      ]
     },
     "execution_count": 6,
     "metadata": {},
     "output_type": "execute_result"
    }
   ],
   "source": [
    "from IPython.display import HTML\n",
    "\n",
    "HTML(\"\"\"\n",
    "<div align=\"middle\">\n",
    "<video width=\"80%\" controls>\n",
    "      <source src=\".\\Vídeos\\exercicio1.mp4\" type=\"video/mp4\">\n",
    "</video></div>\"\"\")"
   ]
  },
  {
   "cell_type": "code",
   "execution_count": null,
   "id": "2f05d995",
   "metadata": {},
   "outputs": [],
   "source": []
  }
 ],
 "metadata": {
  "kernelspec": {
   "display_name": "Python 3 (ipykernel)",
   "language": "python",
   "name": "python3"
  },
  "language_info": {
   "codemirror_mode": {
    "name": "ipython",
    "version": 3
   },
   "file_extension": ".py",
   "mimetype": "text/x-python",
   "name": "python",
   "nbconvert_exporter": "python",
   "pygments_lexer": "ipython3",
   "version": "3.7.13"
  }
 },
 "nbformat": 4,
 "nbformat_minor": 5
}
